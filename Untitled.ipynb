{
 "cells": [
  {
   "cell_type": "code",
   "execution_count": 95,
   "metadata": {},
   "outputs": [],
   "source": [
    "import pandas as pd\n",
    "import numpy as np \n",
    "import itertools\n",
    "import keras\n",
    "from sklearn import metrics\n",
    "from sklearn.metrics import confusion_matrix\n",
    "from keras.preprocessing.image import ImageDataGenerator, img_to_array, load_img \n",
    "from keras.models import Sequential \n",
    "from keras import optimizers, models, layers\n",
    "from keras.preprocessing import image\n",
    "from keras.preprocessing.image import ImageDataGenerator, array_to_img, img_to_array, load_img\n",
    "from keras.layers import Dropout, Flatten, Dense \n",
    "from keras import applications \n",
    "from keras.utils.np_utils import to_categorical \n",
    "import matplotlib.pyplot as plt \n",
    "import matplotlib.image as mpimg\n",
    "%matplotlib inline\n",
    "import math \n",
    "import datetime\n",
    "import time\n",
    "from random import shuffle\n",
    "import os, shutil, re\n",
    "import scipy\n",
    "from scipy import ndimage\n",
    "from PIL import Image"
   ]
  },
  {
   "cell_type": "markdown",
   "metadata": {},
   "source": [
    "# splitting into Testing and Training Data - unstratified\n"
   ]
  },
  {
   "cell_type": "code",
   "execution_count": 156,
   "metadata": {},
   "outputs": [],
   "source": [
    "# get a list of all the files\n",
    "def get_file_list_from_dir(directory):\n",
    "    os.chdir(\"/Users/carolinevanacore/Desktop/Flatiron/CourseMaterial/Mod4/Mod4_Project/\")\n",
    "    return os.listdir(os.path.abspath(directory))\n",
    "\n",
    "def randomize_files(file_list):\n",
    "    shuffle(file_list)\n",
    "    \n",
    "def get_train_and_test(file_list, train_split):\n",
    "    split_index = math.floor(len(file_list)*train_split)\n",
    "    train_files = file_list[:split_index]\n",
    "    test_files = file_list[split_index:]\n",
    "    return train_files,test_files\n",
    "\n",
    "def copy_files_to_folders(train_files, test_files):\n",
    "    os.chdir(\"/Users/carolinevanacore/Desktop/Flatiron/CourseMaterial/Mod4/Mod4_Project/\")\n",
    "    if not os.path.exists('data'):\n",
    "        os.mkdir('data')\n",
    "        os.mkdir(os.path.join('data','train'))\n",
    "        os.mkdir(os.path.join('data','test'))\n",
    "        for f in train_files:\n",
    "            shutil.copy(os.path.join('images', f), os.path.join('data','train'))\n",
    "        for f in test_files:\n",
    "            shutil.copy(os.path.join('images', f), os.path.join('data','test'))\n",
    "        \n",
    "def sort_by_breed(folder_to_sort):\n",
    "    os.chdir(\"/Users/carolinevanacore/Desktop/Flatiron/CourseMaterial/Mod4/Mod4_Project/data\")\n",
    "    for f in os.listdir(folder_to_sort):\n",
    "        if f.endswith(\".jpg\"):\n",
    "            folderName = re.findall(r\"^[a-zA-z\\_]+\",f)[0][:-1]\n",
    "            if not os.path.exists(os.path.join(folder_to_sort, folderName)):\n",
    "                os.mkdir(os.path.join(folder_to_sort, folderName))\n",
    "                shutil.move(os.path.join(folder_to_sort, f), os.path.join(folder_to_sort,folderName))\n",
    "            else:\n",
    "                shutil.move(os.path.join(folder_to_sort, f), os.path.join(folder_to_sort,folderName))\n",
    "\n",
    "\n",
    "# split data into test and train without stratifying\n",
    "all_files = get_file_list_from_dir(\"images\")\n",
    "randomize_files(all_files)\n",
    "train_files, test_files = get_train_and_test(all_files, .80)\n",
    "copy_files_to_folders(train_files, test_files)\n",
    "sort_by_breed(\"test\")\n",
    "sort_by_breed(\"train\")\n",
    "\n",
    "# should i make sure there is a folder for every breed even if its not in the testing or training data?\n",
    "# should we \"stratify\" the testing and training data\n",
    "\n"
   ]
  },
  {
   "cell_type": "markdown",
   "metadata": {},
   "source": [
    "## train test split -  stratified"
   ]
  },
  {
   "cell_type": "code",
   "execution_count": 131,
   "metadata": {},
   "outputs": [],
   "source": [
    "def sort_images_by_breed(folder_to_sort):\n",
    "    os.chdir(\"/Users/carolinevanacore/Desktop/Flatiron/CourseMaterial/Mod4/Mod4_Project/\")\n",
    "    if not os.path.exists('stratified'):\n",
    "        os.mkdir('stratified')\n",
    "        for f in os.listdir(folder_to_sort):\n",
    "            folderName = re.findall(r\"^[a-zA-Z/_]+\", f)[0][:-1]\n",
    "           \n",
    "            if not os.path.exists(os.path.join('stratified',folderName)):\n",
    "                os.mkdir(os.path.join('stratified',folderName))\n",
    "                shutil.copy(os.path.join(folder_to_sort, f), os.path.join('stratified',folderName))\n",
    "            else:\n",
    "                shutil.copy(os.path.join(folder_to_sort, f), os.path.join('stratified',folderName))\n",
    "\n",
    "\n",
    "def train_test_stratify(breed_directory, train_split):\n",
    "    \"\"\" Evenly splits each breed into train and test folders based on train_split value\n",
    "    \"\"\"\n",
    "    breeds = os.listdir(breed_directory)\n",
    "    \n",
    "    # creates the train and test directories if they do not exist\n",
    "    if not os.path.exists(os.path.join('stratified','train')):\n",
    "        os.mkdir(os.path.join('stratified','train'))\n",
    "    if not os.path.exists(os.path.join('stratified','test')):\n",
    "        os.mkdir(os.path.join('stratified','test'))\n",
    "    \n",
    "    # iterates through each breed directory, and moves train_split % of the images to a train directory and the rest \n",
    "    # to a test directory\n",
    "    for breed in breeds:\n",
    "        breed_files = get_file_list_from_dir(os.path.join('stratified',breed))\n",
    "        randomize_files(breed_files)\n",
    "        train_list, test_list = get_train_and_test(breed_files, train_split)\n",
    "        \n",
    "        if not os.path.exists(os.path.join('stratified','train',breed)):\n",
    "            os.mkdir(os.path.join('stratified','train',breed))\n",
    "        if not os.path.exists(os.path.join('stratified','test',breed)):\n",
    "            os.mkdir(os.path.join('stratified','test',breed))  \n",
    "            \n",
    "        for train_file in train_list:\n",
    "            shutil.move(os.path.join('stratified',breed, train_file), os.path.join('stratified','train', breed))\n",
    "        for test_file in test_list:\n",
    "            shutil.move(os.path.join('stratified',breed, test_file), os.path.join('stratified','test', breed))\n",
    "        \n",
    "        # deletes the now empty breed directory \n",
    "        os.rmdir(os.path.join('stratified',breed))\n",
    "        \n",
    "            \n",
    "        \n"
   ]
  },
  {
   "cell_type": "code",
   "execution_count": 132,
   "metadata": {},
   "outputs": [],
   "source": [
    "# split data into test and train with stratification\n",
    "sort_images_by_breed('images')\n",
    "train_test_stratify('stratified', .80)\n",
    "\n"
   ]
  },
  {
   "cell_type": "markdown",
   "metadata": {},
   "source": [
    "# EDA for stratified data"
   ]
  },
  {
   "cell_type": "code",
   "execution_count": 151,
   "metadata": {},
   "outputs": [
    {
     "data": {
      "text/plain": [
       "7390"
      ]
     },
     "execution_count": 151,
     "metadata": {},
     "output_type": "execute_result"
    }
   ],
   "source": [
    "def get_images_count(directory):\n",
    "    os.chdir(\"/Users/carolinevanacore/Desktop/Flatiron/CourseMaterial/Mod4/Mod4_Project\")\n",
    "   \n",
    "    return len([image for image in os.listdir(directory)])\n",
    " \n",
    "get_images_count('images')"
   ]
  },
  {
   "cell_type": "code",
   "execution_count": 102,
   "metadata": {},
   "outputs": [],
   "source": [
    "def get_category_counts(directory):\n",
    "    counts = {}\n",
    "    os.chdir(\"/Users/carolinevanacore/Desktop/Flatiron/CourseMaterial/Mod4/Mod4_Project\")\n",
    "    for breed in os.listdir(directory):\n",
    "        counts[breed] = len([file for file in os.listdir(os.path.join(directory,breed)) if file.endswith('.jpg')])\n",
    "    return counts \n",
    "\n"
   ]
  },
  {
   "cell_type": "code",
   "execution_count": 152,
   "metadata": {},
   "outputs": [],
   "source": [
    "strat_train_counts = get_category_counts('stratified/train')\n",
    "strat_test_counts = get_category_counts('stratified/test')"
   ]
  },
  {
   "cell_type": "code",
   "execution_count": 153,
   "metadata": {
    "scrolled": false
   },
   "outputs": [
    {
     "data": {
      "text/plain": [
       "<matplotlib.axes._subplots.AxesSubplot at 0x1a440f3080>"
      ]
     },
     "execution_count": 153,
     "metadata": {},
     "output_type": "execute_result"
    },
    {
     "data": {
      "image/png": "[encoded data removed]",
      "text/plain": [
       "<Figure size 432x288 with 1 Axes>"
      ]
     },
     "metadata": {
      "needs_background": "light"
     },
     "output_type": "display_data"
    }
   ],
   "source": [
    "pd.Series(strat_train_counts, name='Train').plot(kind = 'bar')"
   ]
  },
  {
   "cell_type": "code",
   "execution_count": 154,
   "metadata": {
    "scrolled": false
   },
   "outputs": [
    {
     "data": {
      "text/plain": [
       "<matplotlib.axes._subplots.AxesSubplot at 0x1a441056d8>"
      ]
     },
     "execution_count": 154,
     "metadata": {},
     "output_type": "execute_result"
    },
    {
     "data": {
      "image/png": "[encoded data removed]",
      "text/plain": [
       "<Figure size 432x288 with 1 Axes>"
      ]
     },
     "metadata": {
      "needs_background": "light"
     },
     "output_type": "display_data"
    }
   ],
   "source": [
    "pd.Series(strat_test_counts, name='Test').plot(kind = 'bar')"
   ]
  },
  {
   "cell_type": "markdown",
   "metadata": {},
   "source": [
    "### unstratified"
   ]
  },
  {
   "cell_type": "code",
   "execution_count": 157,
   "metadata": {},
   "outputs": [],
   "source": [
    "train_counts = get_category_counts('data/train')\n",
    "test_counts = get_category_counts('data/test')"
   ]
  },
  {
   "cell_type": "code",
   "execution_count": 158,
   "metadata": {
    "scrolled": true
   },
   "outputs": [
    {
     "data": {
      "text/plain": [
       "<matplotlib.axes._subplots.AxesSubplot at 0x1a44357198>"
      ]
     },
     "execution_count": 158,
     "metadata": {},
     "output_type": "execute_result"
    },
    {
     "data": {
      "image/png": "[encoded data removed]",
      "text/plain": [
       "<Figure size 432x288 with 1 Axes>"
      ]
     },
     "metadata": {
      "needs_background": "light"
     },
     "output_type": "display_data"
    }
   ],
   "source": [
    "pd.Series(train_counts, name='Train').plot(kind = 'bar')"
   ]
  },
  {
   "cell_type": "code",
   "execution_count": 160,
   "metadata": {
    "scrolled": false
   },
   "outputs": [
    {
     "data": {
      "text/plain": [
       "<matplotlib.axes._subplots.AxesSubplot at 0x1a44100dd8>"
      ]
     },
     "execution_count": 160,
     "metadata": {},
     "output_type": "execute_result"
    },
    {
     "data": {
      "image/png": "[encoded data removed]",
      "text/plain": [
       "<Figure size 432x288 with 1 Axes>"
      ]
     },
     "metadata": {
      "needs_background": "light"
     },
     "output_type": "display_data"
    }
   ],
   "source": [
    "pd.Series(test_counts, name='Test').plot(kind = 'bar')"
   ]
  },
  {
   "cell_type": "markdown",
   "metadata": {},
   "source": [
    "# getting image data"
   ]
  },
  {
   "cell_type": "code",
   "execution_count": 161,
   "metadata": {},
   "outputs": [],
   "source": [
    "def get_train_test_images_labels(directory, test_batch_size = 32, train_batch_size = 32, target_size = (128,128)):\n",
    "    os.chdir(os.path.join(\"/Users/carolinevanacore/Desktop/Flatiron/CourseMaterial/Mod4/Mod4_Project\",directory))\n",
    "    train_data_dir = 'train'\n",
    "    test_data_dir = 'test'\n",
    "\n",
    "    # get data the validation, and reshape them\n",
    "    test_generator = ImageDataGenerator(rescale=1./255).flow_from_directory(\n",
    "            test_data_dir, \n",
    "            target_size=target_size, batch_size=test_batch_size) \n",
    "\n",
    "    # get data from the train directory and reshape them\n",
    "    train_generator = ImageDataGenerator(rescale=1./255).flow_from_directory(\n",
    "            train_data_dir, \n",
    "            target_size=target_size, batch_size= train_batch_size)\n",
    "\n",
    "    # create the data sets\n",
    "    train_images, train_labels = next(train_generator)\n",
    "    test_images, test_labels = next(test_generator)\n",
    "    print(\"train_images shape: \",train_images.shape)\n",
    "    print(\"train_labels shape: \", train_labels.shape) \n",
    "    print(\"test_images shape: \", test_images.shape)\n",
    "    print(\"test_labels shape: \", test_labels.shape)\n",
    "    \n",
    "    return train_images, train_labels, test_images, test_labels"
   ]
  },
  {
   "cell_type": "markdown",
   "metadata": {},
   "source": [
    "# getting image data  for stratified train/test split\n"
   ]
  },
  {
   "cell_type": "code",
   "execution_count": 165,
   "metadata": {},
   "outputs": [
    {
     "name": "stdout",
     "output_type": "stream",
     "text": [
      "Found 1478 images belonging to 37 classes.\n",
      "Found 5912 images belonging to 37 classes.\n",
      "train_images shape:  (5912, 128, 128, 3)\n",
      "train_labels shape:  (5912, 37)\n",
      "test_images shape:  (1478, 128, 128, 3)\n",
      "test_labels shape:  (1478, 37)\n"
     ]
    }
   ],
   "source": [
    "train_images, train_labels, test_images, test_labels = get_train_test_images_labels('data', 1480,5912)\n"
   ]
  },
  {
   "cell_type": "code",
   "execution_count": 163,
   "metadata": {},
   "outputs": [
    {
     "name": "stdout",
     "output_type": "stream",
     "text": [
      "Found 1479 images belonging to 37 classes.\n",
      "Found 5911 images belonging to 37 classes.\n",
      "train_images shape:  (5911, 128, 128, 3)\n",
      "train_labels shape:  (5911, 37)\n",
      "test_images shape:  (1479, 128, 128, 3)\n",
      "test_labels shape:  (1479, 37)\n"
     ]
    }
   ],
   "source": [
    "strat_train_images, strat_train_labels, strat_test_images, strat_test_labels = get_train_test_images_labels('stratified', 1480,5911)\n",
    "\n"
   ]
  },
  {
   "cell_type": "markdown",
   "metadata": {},
   "source": [
    "# need to reshape all of the matrices\n"
   ]
  },
  {
   "cell_type": "code",
   "execution_count": 173,
   "metadata": {},
   "outputs": [
    {
     "name": "stdout",
     "output_type": "stream",
     "text": [
      "train_x's shape: (5912, 49152)\n",
      "test_x's shape: (1478, 49152)\n"
     ]
    }
   ],
   "source": [
    "def reshape_image_matrices(train_images, test_images):\n",
    "    train_x = train_images.reshape(train_images.shape[0], -1)   # The \"-1\" makes reshape flatten the remaining dimensions\n",
    "    test_x = test_images.reshape(test_images.shape[0], -1)\n",
    "\n",
    "\n",
    "    print (\"train_x's shape: \" + str(train_x.shape)) #12288 = 64*64*3 (pixels length * pix width * rgb)\n",
    "    print (\"test_x's shape: \" + str(test_x.shape))\n",
    "    return train_x, test_x\n",
    "train_x, test_x = reshape_image_matrices(train_images,test_images)"
   ]
  },
  {
   "cell_type": "code",
   "execution_count": 170,
   "metadata": {},
   "outputs": [
    {
     "name": "stdout",
     "output_type": "stream",
     "text": [
      "train_labels's shape: (5912, 37)\n",
      "test_labels's shape: (1478, 37)\n"
     ]
    }
   ],
   "source": [
    "print (\"train_labels's shape: \" + str(train_labels.shape))\n",
    "print (\"test_labels's shape: \" + str(test_labels.shape))\n"
   ]
  },
  {
   "cell_type": "code",
   "execution_count": 168,
   "metadata": {},
   "outputs": [
    {
     "name": "stdout",
     "output_type": "stream",
     "text": [
      "WARNING:tensorflow:From /Users/carolinevanacore/anaconda3/lib/python3.7/site-packages/tensorflow/python/framework/op_def_library.py:263: colocate_with (from tensorflow.python.framework.ops) is deprecated and will be removed in a future version.\n",
      "Instructions for updating:\n",
      "Colocations handled automatically by placer.\n"
     ]
    }
   ],
   "source": [
    "model = models.Sequential()\n",
    "model.add(layers.Dense(64, activation='relu', input_shape=(49152,))) #input shape is # of features\n",
    "model.add(layers.Dense(64, activation='relu'))\n",
    "model.add(layers.Dense(37, activation='softmax'))"
   ]
  },
  {
   "cell_type": "code",
   "execution_count": 172,
   "metadata": {
    "scrolled": true
   },
   "outputs": [
    {
     "name": "stdout",
     "output_type": "stream",
     "text": [
      "WARNING:tensorflow:From /Users/carolinevanacore/anaconda3/lib/python3.7/site-packages/tensorflow/python/ops/math_ops.py:3066: to_int32 (from tensorflow.python.ops.math_ops) is deprecated and will be removed in a future version.\n",
      "Instructions for updating:\n",
      "Use tf.cast instead.\n",
      "Epoch 1/120\n",
      "5912/5912 [==============================] - 3s 581us/step - loss: 3.6168 - acc: 0.0326\n",
      "Epoch 2/120\n",
      "5912/5912 [==============================] - 3s 520us/step - loss: 3.5999 - acc: 0.0396\n",
      "Epoch 3/120\n",
      "5912/5912 [==============================] - 3s 530us/step - loss: 3.5798 - acc: 0.0507\n",
      "Epoch 4/120\n",
      "5912/5912 [==============================] - 3s 513us/step - loss: 3.5580 - acc: 0.0551\n",
      "Epoch 5/120\n",
      "5912/5912 [==============================] - 3s 511us/step - loss: 3.5375 - acc: 0.0622\n",
      "Epoch 6/120\n",
      "5912/5912 [==============================] - 3s 538us/step - loss: 3.5139 - acc: 0.0655\n",
      "Epoch 7/120\n",
      "5912/5912 [==============================] - 3s 518us/step - loss: 3.4911 - acc: 0.0678\n",
      "Epoch 8/120\n",
      "5912/5912 [==============================] - 3s 534us/step - loss: 3.4630 - acc: 0.0743\n",
      "Epoch 9/120\n",
      "5912/5912 [==============================] - 3s 526us/step - loss: 3.4335 - acc: 0.0776\n",
      "Epoch 10/120\n",
      "5912/5912 [==============================] - 3s 513us/step - loss: 3.3967 - acc: 0.0832\n",
      "Epoch 11/120\n",
      "5912/5912 [==============================] - 3s 511us/step - loss: 3.3686 - acc: 0.0920\n",
      "Epoch 12/120\n",
      "5912/5912 [==============================] - 3s 525us/step - loss: 3.3401 - acc: 0.0910\n",
      "Epoch 13/120\n",
      "5912/5912 [==============================] - 3s 536us/step - loss: 3.3258 - acc: 0.0951\n",
      "Epoch 14/120\n",
      "5912/5912 [==============================] - 3s 520us/step - loss: 3.2867 - acc: 0.1033\n",
      "Epoch 15/120\n",
      "5912/5912 [==============================] - 3s 523us/step - loss: 3.2619 - acc: 0.1083\n",
      "Epoch 16/120\n",
      "5912/5912 [==============================] - 3s 522us/step - loss: 3.2380 - acc: 0.1147\n",
      "Epoch 17/120\n",
      "5912/5912 [==============================] - 3s 531us/step - loss: 3.2215 - acc: 0.1177\n",
      "Epoch 18/120\n",
      "5912/5912 [==============================] - 3s 532us/step - loss: 3.1972 - acc: 0.1267\n",
      "Epoch 19/120\n",
      "5912/5912 [==============================] - 3s 539us/step - loss: 3.1764 - acc: 0.1313\n",
      "Epoch 20/120\n",
      "5912/5912 [==============================] - 3s 547us/step - loss: 3.1620 - acc: 0.1357\n",
      "Epoch 21/120\n",
      "5912/5912 [==============================] - 3s 542us/step - loss: 3.1171 - acc: 0.1504\n",
      "Epoch 22/120\n",
      "5912/5912 [==============================] - 3s 520us/step - loss: 3.1187 - acc: 0.1521\n",
      "Epoch 23/120\n",
      "5912/5912 [==============================] - 3s 524us/step - loss: 3.0969 - acc: 0.1556\n",
      "Epoch 24/120\n",
      "5912/5912 [==============================] - 3s 578us/step - loss: 3.0722 - acc: 0.1566\n",
      "Epoch 25/120\n",
      "5912/5912 [==============================] - 3s 527us/step - loss: 3.0426 - acc: 0.1683\n",
      "Epoch 26/120\n",
      "5912/5912 [==============================] - 3s 526us/step - loss: 3.0424 - acc: 0.1678\n",
      "Epoch 27/120\n",
      "5912/5912 [==============================] - 3s 525us/step - loss: 3.0263 - acc: 0.1647\n",
      "Epoch 28/120\n",
      "5912/5912 [==============================] - 3s 527us/step - loss: 2.9965 - acc: 0.1761\n",
      "Epoch 29/120\n",
      "5912/5912 [==============================] - 3s 524us/step - loss: 2.9737 - acc: 0.1813\n",
      "Epoch 30/120\n",
      "5912/5912 [==============================] - 3s 528us/step - loss: 2.9580 - acc: 0.1820\n",
      "Epoch 31/120\n",
      "5912/5912 [==============================] - 3s 533us/step - loss: 2.9210 - acc: 0.2006\n",
      "Epoch 32/120\n",
      "5912/5912 [==============================] - 3s 525us/step - loss: 2.9059 - acc: 0.2037\n",
      "Epoch 33/120\n",
      "5912/5912 [==============================] - 3s 528us/step - loss: 2.8886 - acc: 0.1986\n",
      "Epoch 34/120\n",
      "5912/5912 [==============================] - 3s 522us/step - loss: 2.8678 - acc: 0.2104\n",
      "Epoch 35/120\n",
      "5912/5912 [==============================] - 3s 538us/step - loss: 2.8538 - acc: 0.2114\n",
      "Epoch 36/120\n",
      "5912/5912 [==============================] - 3s 509us/step - loss: 2.8407 - acc: 0.2172\n",
      "Epoch 37/120\n",
      "5912/5912 [==============================] - 3s 527us/step - loss: 2.8012 - acc: 0.2229\n",
      "Epoch 38/120\n",
      "5912/5912 [==============================] - 3s 542us/step - loss: 2.7651 - acc: 0.2344\n",
      "Epoch 39/120\n",
      "5912/5912 [==============================] - 3s 535us/step - loss: 2.7575 - acc: 0.2397\n",
      "Epoch 40/120\n",
      "5912/5912 [==============================] - 3s 521us/step - loss: 2.7642 - acc: 0.2356\n",
      "Epoch 41/120\n",
      "5912/5912 [==============================] - 3s 520us/step - loss: 2.7069 - acc: 0.2539\n",
      "Epoch 42/120\n",
      "5912/5912 [==============================] - 3s 528us/step - loss: 2.7019 - acc: 0.2529\n",
      "Epoch 43/120\n",
      "5912/5912 [==============================] - 3s 515us/step - loss: 2.6972 - acc: 0.2552\n",
      "Epoch 44/120\n",
      "5912/5912 [==============================] - 3s 525us/step - loss: 2.6736 - acc: 0.2588\n",
      "Epoch 45/120\n",
      "5912/5912 [==============================] - 3s 511us/step - loss: 2.6685 - acc: 0.2583\n",
      "Epoch 46/120\n",
      "5912/5912 [==============================] - 3s 507us/step - loss: 2.6383 - acc: 0.2705\n",
      "Epoch 47/120\n",
      "5912/5912 [==============================] - 3s 508us/step - loss: 2.6261 - acc: 0.2757\n",
      "Epoch 48/120\n",
      "5912/5912 [==============================] - 3s 506us/step - loss: 2.5828 - acc: 0.2825\n",
      "Epoch 49/120\n",
      "5912/5912 [==============================] - 3s 510us/step - loss: 2.5654 - acc: 0.2889 0s - loss: 2.5654 - acc: 0.290\n",
      "Epoch 50/120\n",
      "5912/5912 [==============================] - 3s 510us/step - loss: 2.5689 - acc: 0.2855\n",
      "Epoch 51/120\n",
      "5912/5912 [==============================] - 3s 509us/step - loss: 2.5335 - acc: 0.2945\n",
      "Epoch 52/120\n",
      "5912/5912 [==============================] - 3s 510us/step - loss: 2.5032 - acc: 0.3067\n",
      "Epoch 53/120\n",
      "5912/5912 [==============================] - 3s 514us/step - loss: 2.4773 - acc: 0.3075\n",
      "Epoch 54/120\n",
      "5912/5912 [==============================] - 3s 511us/step - loss: 2.4765 - acc: 0.3082\n",
      "Epoch 55/120\n",
      "5912/5912 [==============================] - 3s 512us/step - loss: 2.4327 - acc: 0.3212\n",
      "Epoch 56/120\n",
      "5912/5912 [==============================] - 3s 507us/step - loss: 2.4102 - acc: 0.3342\n",
      "Epoch 57/120\n",
      "5912/5912 [==============================] - 3s 507us/step - loss: 2.4515 - acc: 0.3170\n",
      "Epoch 58/120\n",
      "5912/5912 [==============================] - 3s 495us/step - loss: 2.4401 - acc: 0.3163\n",
      "Epoch 59/120\n",
      "5912/5912 [==============================] - 3s 511us/step - loss: 2.3637 - acc: 0.3385\n",
      "Epoch 60/120\n",
      "5912/5912 [==============================] - 3s 501us/step - loss: 2.4093 - acc: 0.3273\n",
      "Epoch 61/120\n",
      "5912/5912 [==============================] - 3s 502us/step - loss: 2.3392 - acc: 0.3405\n",
      "Epoch 62/120\n",
      "5912/5912 [==============================] - 3s 517us/step - loss: 2.3341 - acc: 0.3540\n",
      "Epoch 63/120\n",
      "5912/5912 [==============================] - 3s 519us/step - loss: 2.3184 - acc: 0.3539\n",
      "Epoch 64/120\n",
      "5912/5912 [==============================] - 3s 531us/step - loss: 2.2486 - acc: 0.3789\n",
      "Epoch 65/120\n",
      "5912/5912 [==============================] - 3s 494us/step - loss: 2.2999 - acc: 0.3621\n",
      "Epoch 66/120\n",
      "5912/5912 [==============================] - 3s 515us/step - loss: 2.2461 - acc: 0.3745\n",
      "Epoch 67/120\n",
      "5912/5912 [==============================] - 3s 510us/step - loss: 2.2519 - acc: 0.3696\n",
      "Epoch 68/120\n",
      "5912/5912 [==============================] - 3s 515us/step - loss: 2.1709 - acc: 0.4009\n",
      "Epoch 69/120\n",
      "5912/5912 [==============================] - 3s 507us/step - loss: 2.1926 - acc: 0.3882\n",
      "Epoch 70/120\n",
      "5912/5912 [==============================] - 3s 518us/step - loss: 2.1767 - acc: 0.3858\n",
      "Epoch 71/120\n",
      "5912/5912 [==============================] - 3s 512us/step - loss: 2.1605 - acc: 0.3968\n",
      "Epoch 72/120\n",
      "5912/5912 [==============================] - 3s 508us/step - loss: 2.1328 - acc: 0.4010\n",
      "Epoch 73/120\n",
      "5912/5912 [==============================] - 3s 516us/step - loss: 2.0804 - acc: 0.4100\n",
      "Epoch 74/120\n",
      "5912/5912 [==============================] - 3s 522us/step - loss: 2.0594 - acc: 0.4178\n",
      "Epoch 75/120\n",
      "5912/5912 [==============================] - 3s 517us/step - loss: 2.1118 - acc: 0.4110\n",
      "Epoch 76/120\n",
      "5912/5912 [==============================] - 3s 535us/step - loss: 2.0258 - acc: 0.4286\n",
      "Epoch 77/120\n",
      "5912/5912 [==============================] - 3s 517us/step - loss: 2.0650 - acc: 0.4149\n",
      "Epoch 78/120\n",
      "5912/5912 [==============================] - 3s 518us/step - loss: 2.0053 - acc: 0.4400\n",
      "Epoch 79/120\n"
     ]
    },
    {
     "name": "stdout",
     "output_type": "stream",
     "text": [
      "5912/5912 [==============================] - 3s 526us/step - loss: 1.9959 - acc: 0.4347\n",
      "Epoch 80/120\n",
      "5912/5912 [==============================] - 3s 534us/step - loss: 1.9740 - acc: 0.4393\n",
      "Epoch 81/120\n",
      "5912/5912 [==============================] - 3s 547us/step - loss: 1.9779 - acc: 0.4432\n",
      "Epoch 82/120\n",
      "5912/5912 [==============================] - 3s 516us/step - loss: 1.9577 - acc: 0.4462\n",
      "Epoch 83/120\n",
      "5912/5912 [==============================] - 3s 524us/step - loss: 1.9655 - acc: 0.4553\n",
      "Epoch 84/120\n",
      "5912/5912 [==============================] - 3s 532us/step - loss: 1.9128 - acc: 0.4589 0s - loss: 1.9293 - acc: \n",
      "Epoch 85/120\n",
      "5912/5912 [==============================] - 3s 522us/step - loss: 1.9037 - acc: 0.4680\n",
      "Epoch 86/120\n",
      "5912/5912 [==============================] - 3s 526us/step - loss: 1.9085 - acc: 0.4679\n",
      "Epoch 87/120\n",
      "5912/5912 [==============================] - 3s 513us/step - loss: 1.9122 - acc: 0.4577\n",
      "Epoch 88/120\n",
      "5912/5912 [==============================] - 3s 504us/step - loss: 1.8402 - acc: 0.4843\n",
      "Epoch 89/120\n",
      "5912/5912 [==============================] - 3s 558us/step - loss: 1.8591 - acc: 0.4863\n",
      "Epoch 90/120\n",
      "5912/5912 [==============================] - 3s 523us/step - loss: 1.8314 - acc: 0.4895\n",
      "Epoch 91/120\n",
      "5912/5912 [==============================] - 3s 524us/step - loss: 1.8163 - acc: 0.4953\n",
      "Epoch 92/120\n",
      "5912/5912 [==============================] - 3s 539us/step - loss: 1.8057 - acc: 0.4921\n",
      "Epoch 93/120\n",
      "5912/5912 [==============================] - 3s 528us/step - loss: 1.7631 - acc: 0.5034\n",
      "Epoch 94/120\n",
      "5912/5912 [==============================] - 3s 529us/step - loss: 1.7890 - acc: 0.4976\n",
      "Epoch 95/120\n",
      "5912/5912 [==============================] - 3s 521us/step - loss: 1.7658 - acc: 0.4986\n",
      "Epoch 96/120\n",
      "5912/5912 [==============================] - 3s 535us/step - loss: 1.7979 - acc: 0.4963\n",
      "Epoch 97/120\n",
      "5912/5912 [==============================] - 3s 523us/step - loss: 1.7223 - acc: 0.5125\n",
      "Epoch 98/120\n",
      "5912/5912 [==============================] - 3s 551us/step - loss: 1.6378 - acc: 0.5330\n",
      "Epoch 99/120\n",
      "5912/5912 [==============================] - 3s 532us/step - loss: 1.6716 - acc: 0.5277\n",
      "Epoch 100/120\n",
      "5912/5912 [==============================] - 3s 542us/step - loss: 1.6886 - acc: 0.5238\n",
      "Epoch 101/120\n",
      "5912/5912 [==============================] - 3s 531us/step - loss: 1.7429 - acc: 0.5068\n",
      "Epoch 102/120\n",
      "5912/5912 [==============================] - 3s 509us/step - loss: 1.6863 - acc: 0.5228\n",
      "Epoch 103/120\n",
      "5912/5912 [==============================] - 3s 506us/step - loss: 1.5817 - acc: 0.5469\n",
      "Epoch 104/120\n",
      "5912/5912 [==============================] - 3s 509us/step - loss: 1.6157 - acc: 0.5397\n",
      "Epoch 105/120\n",
      "5912/5912 [==============================] - 3s 513us/step - loss: 1.6039 - acc: 0.5480 1s - lo\n",
      "Epoch 106/120\n",
      "5912/5912 [==============================] - 3s 507us/step - loss: 1.5512 - acc: 0.5594\n",
      "Epoch 107/120\n",
      "5912/5912 [==============================] - 3s 514us/step - loss: 1.4817 - acc: 0.5797\n",
      "Epoch 108/120\n",
      "5912/5912 [==============================] - 3s 511us/step - loss: 1.5776 - acc: 0.5524\n",
      "Epoch 109/120\n",
      "5912/5912 [==============================] - 3s 514us/step - loss: 1.6240 - acc: 0.5401\n",
      "Epoch 110/120\n",
      "5912/5912 [==============================] - 3s 516us/step - loss: 1.5764 - acc: 0.5487\n",
      "Epoch 111/120\n",
      "5912/5912 [==============================] - 3s 514us/step - loss: 1.7181 - acc: 0.5189\n",
      "Epoch 112/120\n",
      "5912/5912 [==============================] - 3s 516us/step - loss: 1.4452 - acc: 0.5988\n",
      "Epoch 113/120\n",
      "5912/5912 [==============================] - 3s 513us/step - loss: 1.4808 - acc: 0.5817\n",
      "Epoch 114/120\n",
      "5912/5912 [==============================] - 3s 514us/step - loss: 1.4716 - acc: 0.5824\n",
      "Epoch 115/120\n",
      "5912/5912 [==============================] - 3s 521us/step - loss: 1.4916 - acc: 0.5770\n",
      "Epoch 116/120\n",
      "5912/5912 [==============================] - 3s 522us/step - loss: 1.5158 - acc: 0.5714\n",
      "Epoch 117/120\n",
      "5912/5912 [==============================] - 3s 520us/step - loss: 1.4618 - acc: 0.5847\n",
      "Epoch 118/120\n",
      "5912/5912 [==============================] - 3s 520us/step - loss: 1.3988 - acc: 0.6071\n",
      "Epoch 119/120\n",
      "5912/5912 [==============================] - 3s 524us/step - loss: 1.3104 - acc: 0.6316\n",
      "Epoch 120/120\n",
      "5912/5912 [==============================] - 3s 534us/step - loss: 1.4354 - acc: 0.5924 0s - loss: 1.4023\n"
     ]
    }
   ],
   "source": [
    "#Your code here\n",
    "model.compile(optimizer='SGD',\n",
    "              loss='categorical_crossentropy',\n",
    "              metrics=['accuracy'])\n",
    "\n",
    "\n",
    "history = model.fit(train_x,\n",
    "                    train_labels,\n",
    "                    epochs=120,batch_size = 64)"
   ]
  },
  {
   "cell_type": "code",
   "execution_count": 174,
   "metadata": {
    "scrolled": true
   },
   "outputs": [
    {
     "name": "stdout",
     "output_type": "stream",
     "text": [
      "1478/1478 [==============================] - 0s 203us/step\n",
      "[('loss', 4.99013982251468), ('acc', 0.09269282814614344)]\n"
     ]
    }
   ],
   "source": [
    "score = model.evaluate(test_x, test_labels)\n",
    "print(list(zip(model.metrics_names, score)))\n"
   ]
  },
  {
   "cell_type": "code",
   "execution_count": 175,
   "metadata": {},
   "outputs": [],
   "source": [
    "predictions = model.predict(train_x)"
   ]
  },
  {
   "cell_type": "code",
   "execution_count": 181,
   "metadata": {
    "scrolled": true
   },
   "outputs": [
    {
     "name": "stdout",
     "output_type": "stream",
     "text": [
      "[9.58278033e-05 7.22467527e-03 7.44720967e-03 1.06532142e-01\n",
      " 8.99631679e-02 2.59904831e-04 3.12747760e-03 1.42180352e-02\n",
      " 3.61360400e-03 1.31898038e-02 1.94931240e-03 1.77744951e-04\n",
      " 1.80084817e-03 6.97088148e-03 1.12896858e-04 2.10435290e-04\n",
      " 1.87089096e-03 3.04939654e-02 2.80097425e-02 2.94550904e-03\n",
      " 1.30372914e-02 1.29155433e-05 6.18731882e-03 8.03290680e-03\n",
      " 2.03782022e-02 1.08782902e-01 7.48533569e-03 5.80657162e-02\n",
      " 3.28077702e-03 2.38648161e-01 2.08757439e-04 1.69313716e-05\n",
      " 1.95303574e-01 5.95804420e-04 1.93439480e-02 3.93111142e-04\n",
      " 1.22014335e-05]\n",
      "[0. 0. 0. 0. 1. 0. 0. 0. 0. 0. 0. 0. 0. 0. 0. 0. 0. 0. 0. 0. 0. 0. 0. 0.\n",
      " 0. 0. 0. 0. 0. 0. 0. 0. 0. 0. 0. 0. 0.]\n"
     ]
    }
   ],
   "source": [
    "print(predictions[1])\n",
    "print(train_labels[1])"
   ]
  },
  {
   "cell_type": "markdown",
   "metadata": {},
   "source": [
    "# model with stratified"
   ]
  },
  {
   "cell_type": "code",
   "execution_count": 182,
   "metadata": {
    "scrolled": false
   },
   "outputs": [
    {
     "name": "stdout",
     "output_type": "stream",
     "text": [
      "train_x's shape: (5911, 49152)\n",
      "test_x's shape: (1479, 49152)\n"
     ]
    }
   ],
   "source": [
    "strat_train_x, strat_test_x = reshape_image_matrices(strat_train_images,strat_test_images)"
   ]
  },
  {
   "cell_type": "code",
   "execution_count": 186,
   "metadata": {},
   "outputs": [],
   "source": [
    "model = models.Sequential()\n",
    "model.add(layers.Dense(64, activation='relu', input_shape=(49152,))) #input shape is # of features\n",
    "model.add(layers.Dense(64, activation='relu'))\n",
    "model.add(layers.Dense(37, activation='softmax'))\n",
    "\n"
   ]
  },
  {
   "cell_type": "code",
   "execution_count": 187,
   "metadata": {},
   "outputs": [],
   "source": [
    "model.compile(optimizer='SGD',\n",
    "              loss='categorical_crossentropy',\n",
    "              metrics=['accuracy'])"
   ]
  },
  {
   "cell_type": "code",
   "execution_count": 188,
   "metadata": {
    "scrolled": true
   },
   "outputs": [
    {
     "name": "stdout",
     "output_type": "stream",
     "text": [
      "Epoch 1/120\n",
      "5911/5911 [==============================] - 3s 583us/step - loss: 3.6175 - acc: 0.0244\n",
      "Epoch 2/120\n",
      "5911/5911 [==============================] - 3s 522us/step - loss: 3.6025 - acc: 0.0320\n",
      "Epoch 3/120\n",
      "5911/5911 [==============================] - 3s 529us/step - loss: 3.5861 - acc: 0.0421\n",
      "Epoch 4/120\n",
      "5911/5911 [==============================] - 3s 547us/step - loss: 3.5669 - acc: 0.0497\n",
      "Epoch 5/120\n",
      "5911/5911 [==============================] - 3s 525us/step - loss: 3.5385 - acc: 0.0504\n",
      "Epoch 6/120\n",
      "5911/5911 [==============================] - 3s 520us/step - loss: 3.5182 - acc: 0.0543\n",
      "Epoch 7/120\n",
      "5911/5911 [==============================] - 3s 517us/step - loss: 3.4963 - acc: 0.0577\n",
      "Epoch 8/120\n",
      "5911/5911 [==============================] - 3s 514us/step - loss: 3.4736 - acc: 0.0629\n",
      "Epoch 9/120\n",
      "5911/5911 [==============================] - 3s 515us/step - loss: 3.4538 - acc: 0.0717\n",
      "Epoch 10/120\n",
      "5911/5911 [==============================] - 3s 522us/step - loss: 3.4370 - acc: 0.0714\n",
      "Epoch 11/120\n",
      "5911/5911 [==============================] - 3s 525us/step - loss: 3.4184 - acc: 0.0812\n",
      "Epoch 12/120\n",
      "5911/5911 [==============================] - 3s 526us/step - loss: 3.3997 - acc: 0.0861\n",
      "Epoch 13/120\n",
      "5911/5911 [==============================] - 3s 531us/step - loss: 3.3902 - acc: 0.0848\n",
      "Epoch 14/120\n",
      "5911/5911 [==============================] - 3s 524us/step - loss: 3.3697 - acc: 0.0873\n",
      "Epoch 15/120\n",
      "5911/5911 [==============================] - 3s 522us/step - loss: 3.3579 - acc: 0.0927\n",
      "Epoch 16/120\n",
      "5911/5911 [==============================] - 3s 524us/step - loss: 3.3409 - acc: 0.0969\n",
      "Epoch 17/120\n",
      "5911/5911 [==============================] - 3s 524us/step - loss: 3.3262 - acc: 0.0993\n",
      "Epoch 18/120\n",
      "5911/5911 [==============================] - 3s 527us/step - loss: 3.3066 - acc: 0.1030\n",
      "Epoch 19/120\n",
      "5911/5911 [==============================] - 3s 527us/step - loss: 3.2933 - acc: 0.1147\n",
      "Epoch 20/120\n",
      "5911/5911 [==============================] - 3s 527us/step - loss: 3.2679 - acc: 0.1127\n",
      "Epoch 21/120\n",
      "5911/5911 [==============================] - 3s 526us/step - loss: 3.2403 - acc: 0.1196\n",
      "Epoch 22/120\n",
      "5911/5911 [==============================] - 3s 528us/step - loss: 3.2199 - acc: 0.1194\n",
      "Epoch 23/120\n",
      "5911/5911 [==============================] - 3s 534us/step - loss: 3.2073 - acc: 0.1277\n",
      "Epoch 24/120\n",
      "5911/5911 [==============================] - 3s 539us/step - loss: 3.1762 - acc: 0.1353\n",
      "Epoch 25/120\n",
      "5911/5911 [==============================] - 3s 535us/step - loss: 3.1561 - acc: 0.1340\n",
      "Epoch 26/120\n",
      "5911/5911 [==============================] - 3s 535us/step - loss: 3.1265 - acc: 0.1480\n",
      "Epoch 27/120\n",
      "5911/5911 [==============================] - 3s 535us/step - loss: 3.1123 - acc: 0.1435\n",
      "Epoch 28/120\n",
      "5911/5911 [==============================] - 3s 531us/step - loss: 3.0946 - acc: 0.1482\n",
      "Epoch 29/120\n",
      "5911/5911 [==============================] - 3s 533us/step - loss: 3.0680 - acc: 0.1609 1s - loss: 3.\n",
      "Epoch 30/120\n",
      "5911/5911 [==============================] - 3s 535us/step - loss: 3.0575 - acc: 0.1609\n",
      "Epoch 31/120\n",
      "5911/5911 [==============================] - 3s 533us/step - loss: 3.0287 - acc: 0.1673\n",
      "Epoch 32/120\n",
      "5911/5911 [==============================] - 3s 538us/step - loss: 3.0242 - acc: 0.1612\n",
      "Epoch 33/120\n",
      "5911/5911 [==============================] - 3s 535us/step - loss: 3.0012 - acc: 0.1734 1s - loss: 2.9986 - acc - ETA: 0s - loss: 2.9992 - a\n",
      "Epoch 34/120\n",
      "5911/5911 [==============================] - 3s 539us/step - loss: 2.9855 - acc: 0.1837\n",
      "Epoch 35/120\n",
      "5911/5911 [==============================] - 3s 539us/step - loss: 2.9598 - acc: 0.1834\n",
      "Epoch 36/120\n",
      "5911/5911 [==============================] - 3s 547us/step - loss: 2.9374 - acc: 0.1895\n",
      "Epoch 37/120\n",
      "5911/5911 [==============================] - 3s 559us/step - loss: 2.9336 - acc: 0.1893\n",
      "Epoch 38/120\n",
      "5911/5911 [==============================] - 3s 547us/step - loss: 2.9112 - acc: 0.1964\n",
      "Epoch 39/120\n",
      "5911/5911 [==============================] - 3s 515us/step - loss: 2.9047 - acc: 0.1962\n",
      "Epoch 40/120\n",
      "5911/5911 [==============================] - 3s 515us/step - loss: 2.8652 - acc: 0.2084\n",
      "Epoch 41/120\n",
      "5911/5911 [==============================] - 3s 525us/step - loss: 2.8663 - acc: 0.2083\n",
      "Epoch 42/120\n",
      "5911/5911 [==============================] - 3s 519us/step - loss: 2.8297 - acc: 0.2150\n",
      "Epoch 43/120\n",
      "5911/5911 [==============================] - 3s 513us/step - loss: 2.8156 - acc: 0.2191\n",
      "Epoch 44/120\n",
      "5911/5911 [==============================] - 3s 519us/step - loss: 2.8225 - acc: 0.2221\n",
      "Epoch 45/120\n",
      "5911/5911 [==============================] - 3s 512us/step - loss: 2.7776 - acc: 0.2282\n",
      "Epoch 46/120\n",
      "5911/5911 [==============================] - 3s 511us/step - loss: 2.7660 - acc: 0.2330\n",
      "Epoch 47/120\n",
      "5911/5911 [==============================] - 3s 515us/step - loss: 2.7416 - acc: 0.2390\n",
      "Epoch 48/120\n",
      "5911/5911 [==============================] - 3s 516us/step - loss: 2.7461 - acc: 0.2385\n",
      "Epoch 49/120\n",
      "5911/5911 [==============================] - 3s 514us/step - loss: 2.7231 - acc: 0.2394\n",
      "Epoch 50/120\n",
      "5911/5911 [==============================] - 3s 516us/step - loss: 2.7118 - acc: 0.2468\n",
      "Epoch 51/120\n",
      "5911/5911 [==============================] - 3s 516us/step - loss: 2.7024 - acc: 0.2489\n",
      "Epoch 52/120\n",
      "5911/5911 [==============================] - 3s 520us/step - loss: 2.6704 - acc: 0.2485\n",
      "Epoch 53/120\n",
      "5911/5911 [==============================] - 3s 515us/step - loss: 2.6381 - acc: 0.2627\n",
      "Epoch 54/120\n",
      "5911/5911 [==============================] - 3s 517us/step - loss: 2.6297 - acc: 0.2678\n",
      "Epoch 55/120\n",
      "5911/5911 [==============================] - 3s 515us/step - loss: 2.6121 - acc: 0.2715\n",
      "Epoch 56/120\n",
      "5911/5911 [==============================] - 3s 521us/step - loss: 2.5876 - acc: 0.2805\n",
      "Epoch 57/120\n",
      "5911/5911 [==============================] - 3s 513us/step - loss: 2.5777 - acc: 0.2780\n",
      "Epoch 58/120\n",
      "5911/5911 [==============================] - 3s 512us/step - loss: 2.5650 - acc: 0.2890\n",
      "Epoch 59/120\n",
      "5911/5911 [==============================] - 3s 514us/step - loss: 2.5480 - acc: 0.2913\n",
      "Epoch 60/120\n",
      "5911/5911 [==============================] - 3s 514us/step - loss: 2.5536 - acc: 0.2869\n",
      "Epoch 61/120\n",
      "5911/5911 [==============================] - 3s 517us/step - loss: 2.5134 - acc: 0.2996\n",
      "Epoch 62/120\n",
      "5911/5911 [==============================] - 3s 527us/step - loss: 2.5229 - acc: 0.2934\n",
      "Epoch 63/120\n",
      "5911/5911 [==============================] - 3s 526us/step - loss: 2.4584 - acc: 0.3040\n",
      "Epoch 64/120\n",
      "5911/5911 [==============================] - 3s 509us/step - loss: 2.4743 - acc: 0.3133\n",
      "Epoch 65/120\n",
      "5911/5911 [==============================] - 3s 508us/step - loss: 2.4543 - acc: 0.3121\n",
      "Epoch 66/120\n",
      "5911/5911 [==============================] - 3s 503us/step - loss: 2.4435 - acc: 0.3191\n",
      "Epoch 67/120\n",
      "5911/5911 [==============================] - 3s 542us/step - loss: 2.4416 - acc: 0.3147\n",
      "Epoch 68/120\n",
      "5911/5911 [==============================] - 3s 564us/step - loss: 2.4036 - acc: 0.3253\n",
      "Epoch 69/120\n",
      "5911/5911 [==============================] - 3s 533us/step - loss: 2.3827 - acc: 0.3289\n",
      "Epoch 70/120\n",
      "5911/5911 [==============================] - 3s 531us/step - loss: 2.3959 - acc: 0.3287 1s - loss: 2.\n",
      "Epoch 71/120\n",
      "5911/5911 [==============================] - 3s 573us/step - loss: 2.3382 - acc: 0.3397\n",
      "Epoch 72/120\n",
      "5911/5911 [==============================] - 3s 540us/step - loss: 2.3528 - acc: 0.3439\n",
      "Epoch 73/120\n",
      "5911/5911 [==============================] - 3s 521us/step - loss: 2.3414 - acc: 0.3441\n",
      "Epoch 74/120\n",
      "5911/5911 [==============================] - 3s 519us/step - loss: 2.3399 - acc: 0.3409\n",
      "Epoch 75/120\n",
      "5911/5911 [==============================] - 3s 523us/step - loss: 2.3216 - acc: 0.3499\n",
      "Epoch 76/120\n",
      "5911/5911 [==============================] - 3s 527us/step - loss: 2.2690 - acc: 0.3627\n",
      "Epoch 77/120\n",
      "5911/5911 [==============================] - 3s 521us/step - loss: 2.2635 - acc: 0.3595\n",
      "Epoch 78/120\n",
      "5911/5911 [==============================] - 3s 528us/step - loss: 2.2130 - acc: 0.3744\n",
      "Epoch 79/120\n",
      "5911/5911 [==============================] - 3s 545us/step - loss: 2.2450 - acc: 0.3617\n",
      "Epoch 80/120\n",
      "5911/5911 [==============================] - 3s 548us/step - loss: 2.2217 - acc: 0.3776\n",
      "Epoch 81/120\n"
     ]
    },
    {
     "name": "stdout",
     "output_type": "stream",
     "text": [
      "5911/5911 [==============================] - 3s 555us/step - loss: 2.1744 - acc: 0.3835\n",
      "Epoch 82/120\n",
      "5911/5911 [==============================] - 3s 541us/step - loss: 2.1596 - acc: 0.3959\n",
      "Epoch 83/120\n",
      "5911/5911 [==============================] - 3s 535us/step - loss: 2.1904 - acc: 0.3876\n",
      "Epoch 84/120\n",
      "5911/5911 [==============================] - 3s 514us/step - loss: 2.1795 - acc: 0.3852\n",
      "Epoch 85/120\n",
      "5911/5911 [==============================] - 3s 515us/step - loss: 2.1978 - acc: 0.3854\n",
      "Epoch 86/120\n",
      "5911/5911 [==============================] - 3s 521us/step - loss: 2.1476 - acc: 0.4060\n",
      "Epoch 87/120\n",
      "5911/5911 [==============================] - 3s 542us/step - loss: 2.1316 - acc: 0.3916\n",
      "Epoch 88/120\n",
      "5911/5911 [==============================] - 3s 532us/step - loss: 2.0628 - acc: 0.4185\n",
      "Epoch 89/120\n",
      "5911/5911 [==============================] - 3s 529us/step - loss: 2.0830 - acc: 0.4108 0s - loss: 2.1166 - acc: \n",
      "Epoch 90/120\n",
      "5911/5911 [==============================] - 3s 553us/step - loss: 2.1097 - acc: 0.4094\n",
      "Epoch 91/120\n",
      "5911/5911 [==============================] - 3s 527us/step - loss: 2.0893 - acc: 0.4123\n",
      "Epoch 92/120\n",
      "5911/5911 [==============================] - 3s 529us/step - loss: 2.0896 - acc: 0.4101\n",
      "Epoch 93/120\n",
      "5911/5911 [==============================] - 3s 531us/step - loss: 1.9988 - acc: 0.4294\n",
      "Epoch 94/120\n",
      "5911/5911 [==============================] - 3s 542us/step - loss: 2.0810 - acc: 0.4084\n",
      "Epoch 95/120\n",
      "5911/5911 [==============================] - 3s 546us/step - loss: 2.0270 - acc: 0.4307\n",
      "Epoch 96/120\n",
      "5911/5911 [==============================] - 3s 561us/step - loss: 1.9264 - acc: 0.4554\n",
      "Epoch 97/120\n",
      "5911/5911 [==============================] - 3s 563us/step - loss: 1.9145 - acc: 0.4537\n",
      "Epoch 98/120\n",
      "5911/5911 [==============================] - 3s 529us/step - loss: 2.0002 - acc: 0.4275\n",
      "Epoch 99/120\n",
      "5911/5911 [==============================] - 3s 533us/step - loss: 1.9507 - acc: 0.4514\n",
      "Epoch 100/120\n",
      "5911/5911 [==============================] - 3s 529us/step - loss: 1.9620 - acc: 0.4459 1s - loss\n",
      "Epoch 101/120\n",
      "5911/5911 [==============================] - 3s 530us/step - loss: 1.9728 - acc: 0.4407\n",
      "Epoch 102/120\n",
      "5911/5911 [==============================] - 3s 530us/step - loss: 1.9266 - acc: 0.4553 \n",
      "Epoch 103/120\n",
      "5911/5911 [==============================] - 3s 527us/step - loss: 1.8647 - acc: 0.4664\n",
      "Epoch 104/120\n",
      "5911/5911 [==============================] - 3s 525us/step - loss: 1.8702 - acc: 0.4756\n",
      "Epoch 105/120\n",
      "5911/5911 [==============================] - 3s 525us/step - loss: 1.8423 - acc: 0.4833\n",
      "Epoch 106/120\n",
      "5911/5911 [==============================] - 3s 526us/step - loss: 1.8691 - acc: 0.4678\n",
      "Epoch 107/120\n",
      "5911/5911 [==============================] - 3s 529us/step - loss: 1.8634 - acc: 0.4701\n",
      "Epoch 108/120\n",
      "5911/5911 [==============================] - 3s 534us/step - loss: 1.8561 - acc: 0.4749\n",
      "Epoch 109/120\n",
      "5911/5911 [==============================] - 3s 530us/step - loss: 1.8797 - acc: 0.4608 0s - loss: 1.8893 \n",
      "Epoch 110/120\n",
      "5911/5911 [==============================] - 3s 533us/step - loss: 1.8286 - acc: 0.4783\n",
      "Epoch 111/120\n",
      "5911/5911 [==============================] - 3s 549us/step - loss: 1.7461 - acc: 0.5067\n",
      "Epoch 112/120\n",
      "5911/5911 [==============================] - 3s 544us/step - loss: 1.7677 - acc: 0.4947\n",
      "Epoch 113/120\n",
      "5911/5911 [==============================] - 3s 535us/step - loss: 1.8289 - acc: 0.4720\n",
      "Epoch 114/120\n",
      "5911/5911 [==============================] - 3s 529us/step - loss: 1.7524 - acc: 0.4984\n",
      "Epoch 115/120\n",
      "5911/5911 [==============================] - 3s 526us/step - loss: 1.7864 - acc: 0.4887 1s - lo\n",
      "Epoch 116/120\n",
      "5911/5911 [==============================] - 3s 528us/step - loss: 1.7256 - acc: 0.5003\n",
      "Epoch 117/120\n",
      "5911/5911 [==============================] - 3s 532us/step - loss: 1.7969 - acc: 0.4769\n",
      "Epoch 118/120\n",
      "5911/5911 [==============================] - 3s 533us/step - loss: 1.7912 - acc: 0.5023\n",
      "Epoch 119/120\n",
      "5911/5911 [==============================] - 3s 539us/step - loss: 1.7527 - acc: 0.5079\n",
      "Epoch 120/120\n",
      "5911/5911 [==============================] - 3s 527us/step - loss: 1.7940 - acc: 0.4855\n"
     ]
    }
   ],
   "source": [
    "history = model.fit(strat_train_x,\n",
    "                    strat_train_labels,\n",
    "                    epochs=120,batch_size = 64)"
   ]
  },
  {
   "cell_type": "code",
   "execution_count": 199,
   "metadata": {
    "scrolled": true
   },
   "outputs": [
    {
     "name": "stdout",
     "output_type": "stream",
     "text": [
      "1479/1479 [==============================] - 0s 145us/step\n",
      "[('loss', 4.541106225994489), ('acc', 0.08316430020283976)]\n"
     ]
    }
   ],
   "source": [
    "score = model.evaluate(strat_test_x, strat_test_labels)\n",
    "print(list(zip(model.metrics_names, score)))\n"
   ]
  },
  {
   "cell_type": "markdown",
   "metadata": {},
   "source": [
    "## new model with "
   ]
  },
  {
   "cell_type": "code",
   "execution_count": null,
   "metadata": {},
   "outputs": [],
   "source": [
    "model = models.Sequential()\n",
    "model.add(layers.Dense(64, activation='relu', input_shape=(49152,))) #input shape is # of features\n",
    "model.add(layers.Dense(64, activation='relu'))\n",
    "model.add(layers.Dense(37, activation='softmax'))\n",
    "\n",
    "model.compile(optimizer='SGD',\n",
    "              loss='categorical_crossentropy',\n",
    "              metrics=['accuracy'])\n",
    "history = model.fit(strat_train_x,\n",
    "                    strat_train_labels,\n",
    "                    epochs=120,batch_size = 32)\n",
    "\n"
   ]
  },
  {
   "cell_type": "markdown",
   "metadata": {},
   "source": [
    "## vgg like covnet\n",
    "https://keras.io/getting-started/sequential-model-guide/"
   ]
  },
  {
   "cell_type": "code",
   "execution_count": null,
   "metadata": {
    "scrolled": true
   },
   "outputs": [
    {
     "name": "stdout",
     "output_type": "stream",
     "text": [
      "Epoch 1/10\n",
      "5911/5911 [==============================] - 353s 60ms/step - loss: 3.6135\n",
      "Epoch 2/10\n",
      "5911/5911 [==============================] - 347s 59ms/step - loss: 3.5663\n",
      "Epoch 3/10\n",
      "5911/5911 [==============================] - 334s 56ms/step - loss: 3.4360\n",
      "Epoch 4/10\n",
      "5911/5911 [==============================] - 336s 57ms/step - loss: 3.3256\n",
      "Epoch 5/10\n",
      "5911/5911 [==============================] - 1827s 309ms/step - loss: 3.2413\n",
      "Epoch 6/10\n",
      "5911/5911 [==============================] - 328s 56ms/step - loss: 3.1745\n",
      "Epoch 7/10\n",
      "4640/5911 [======================>.......] - ETA: 1:13 - loss: 3.0764"
     ]
    }
   ],
   "source": [
    "import numpy as np\n",
    "import keras\n",
    "from keras.models import Sequential\n",
    "from keras.layers import Dense, Dropout, Flatten\n",
    "from keras.layers import Conv2D, MaxPooling2D\n",
    "from keras.optimizers import SGD\n",
    "\n",
    "\n",
    "\n",
    "x_test = test_images/255.\n",
    "y_test = test_labels\n",
    "\n",
    "model = Sequential()\n",
    "# input: 64x64 images with 3 channels -> (64, 64, 3) tensors.\n",
    "# this applies 32 convolution filters of size 3x3 each.\n",
    "model.add(Conv2D(32, (3, 3), activation='relu', input_shape=(128, 128, 3)))\n",
    "model.add(Conv2D(32, (3, 3), activation='relu'))\n",
    "model.add(MaxPooling2D(pool_size=(2, 2)))\n",
    "model.add(Dropout(0.25))\n",
    "\n",
    "model.add(Conv2D(128, (3, 3), activation='relu'))\n",
    "model.add(Conv2D(128, (3, 3), activation='relu'))\n",
    "model.add(MaxPooling2D(pool_size=(2, 2)))\n",
    "model.add(Dropout(0.25))\n",
    "\n",
    "model.add(Flatten())\n",
    "model.add(Dense(256, activation='relu'))\n",
    "model.add(Dropout(0.5))\n",
    "model.add(Dense(37, activation='softmax'))\n",
    "\n",
    "sgd = SGD(lr=0.01, decay=1e-6, momentum=0.9, nesterov=True)\n",
    "model.compile(loss='categorical_crossentropy', optimizer=sgd)\n",
    "\n",
    "model.fit(strat_train_images, strat_train_labels, batch_size=32, epochs=10)\n",
    "score = model.evaluate(strat_test_images, strat_test_labels, batch_size=32)"
   ]
  },
  {
   "cell_type": "code",
   "execution_count": 291,
   "metadata": {
    "scrolled": false
   },
   "outputs": [
    {
     "name": "stdout",
     "output_type": "stream",
     "text": [
      "['loss'] 3.54949800491333\n"
     ]
    }
   ],
   "source": [
    "print(model.metrics_names, score)"
   ]
  },
  {
   "cell_type": "code",
   "execution_count": 293,
   "metadata": {},
   "outputs": [
    {
     "data": {
      "text/plain": [
       "array([ 3,  3,  3, 12,  4,  3, 29, 25, 29,  3,  6,  3,  3, 29, 15, 15,  4,\n",
       "       15, 15, 15, 15, 15,  3, 15,  3, 15, 12,  3,  3, 31,  9, 15, 29, 25,\n",
       "        6, 31, 29, 31, 15, 31, 29,  3, 15, 31,  3,  3,  3, 15, 31,  4, 31,\n",
       "        2, 31, 12, 29, 29, 15, 31, 15,  3, 29, 29,  3,  4, 15,  3, 15, 15,\n",
       "       10, 15,  3,  4, 12,  7,  9, 12, 15,  3, 31,  3, 31, 29, 15, 31, 15,\n",
       "       29,  3, 12,  9, 15, 29, 29,  3,  4, 15, 15, 15, 31, 15,  3, 12, 15,\n",
       "        3,  3, 15,  4, 31, 31, 33,  4, 12,  4, 15, 31, 29, 15, 12,  3,  3,\n",
       "       15,  4, 12,  4,  4, 31, 29, 31, 31,  4, 35, 31,  4, 15,  3, 31, 12,\n",
       "       31,  4,  3, 15, 12, 20, 31, 15,  3, 15,  9, 15, 33, 29,  8, 29, 31,\n",
       "       31, 12, 15, 31, 15,  4, 15,  3,  3, 12, 15,  9, 31,  3, 29, 15,  3,\n",
       "       12,  3,  3, 15, 12, 31,  3, 31, 15,  4, 25, 29,  3, 31,  3,  3, 29,\n",
       "        9, 29, 12,  3, 31,  3, 29,  3,  3,  3,  3,  3,  3])"
      ]
     },
     "execution_count": 293,
     "metadata": {},
     "output_type": "execute_result"
    }
   ],
   "source": [
    "model.predict_classes(x_test)"
   ]
  },
  {
   "cell_type": "markdown",
   "metadata": {},
   "source": [
    "# transfer learning with another model"
   ]
  },
  {
   "cell_type": "code",
   "execution_count": 354,
   "metadata": {},
   "outputs": [],
   "source": [
    "from keras.applications.vgg19 import VGG19\n",
    "from keras.applications.vgg19 import preprocess_input as preprocess_input_vgg19\n",
    "from keras.applications.resnet50 import ResNet50\n",
    "from keras.applications.resnet50 import preprocess_input as preprocess_input_resnet50\n",
    "\n",
    "\n",
    "\n",
    "def extract_VGG19(tensors):\n",
    "    preprocessed_input = preprocess_input_vgg19(tensors)\n",
    "    return VGG19(weights='imagenet', include_top=False).predict(preprocessed_input, batch_size=32)\n",
    "\n",
    "def extract_Resnet50(tensors):\n",
    "    preprocessed_input = preprocess_input_resnet50(tensors)\n",
    "    return ResNet50(weights='imagenet', include_top=False).predict(preprocessed_input, batch_size=32)\n"
   ]
  },
  {
   "cell_type": "code",
   "execution_count": 376,
   "metadata": {},
   "outputs": [
    {
     "name": "stdout",
     "output_type": "stream",
     "text": [
      "VGG19 shape (4, 4, 512)\n"
     ]
    }
   ],
   "source": [
    "train_vgg19 = extract_VGG19(strat_train_images)\n",
    "#valid_vgg19 = extract_VGG19(valid_files)\n",
    "test_vgg19 = extract_VGG19(strat_test_images)\n",
    "print(\"VGG19 shape\", train_vgg19.shape[1:])\n"
   ]
  },
  {
   "cell_type": "code",
   "execution_count": 356,
   "metadata": {},
   "outputs": [
    {
     "name": "stderr",
     "output_type": "stream",
     "text": [
      "/Users/carolinevanacore/anaconda3/lib/python3.7/site-packages/keras_applications/resnet50.py:265: UserWarning: The output shape of `ResNet50(include_top=False)` has been changed since Keras 2.2.0.\n",
      "  warnings.warn('The output shape of `ResNet50(include_top=False)` '\n"
     ]
    },
    {
     "name": "stdout",
     "output_type": "stream",
     "text": [
      "Downloading data from https://github.com/fchollet/deep-learning-models/releases/download/v0.2/resnet50_weights_tf_dim_ordering_tf_kernels_notop.h5\n",
      "94658560/94653016 [==============================] - 14s 0us/step\n",
      "Resnet50 shape (4, 4, 2048)\n"
     ]
    }
   ],
   "source": [
    "train_resnet50 = extract_Resnet50(strat_train_images)\n",
    "#valid_resnet50 = extract_Resnet50(valid_files)\n",
    "test_resnet50 = extract_Resnet50(strat_test_images)\n",
    "print(\"Resnet50 shape\", train_resnet50.shape[1:])\n"
   ]
  },
  {
   "cell_type": "code",
   "execution_count": 377,
   "metadata": {},
   "outputs": [],
   "source": [
    "valid_vgg19 = test_vgg19\n",
    "valid_resnet50 = test_resnet50"
   ]
  },
  {
   "cell_type": "code",
   "execution_count": 383,
   "metadata": {
    "scrolled": true
   },
   "outputs": [
    {
     "name": "stdout",
     "output_type": "stream",
     "text": [
      "__________________________________________________________________________________________________\n",
      "Layer (type)                    Output Shape         Param #     Connected to                     \n",
      "==================================================================================================\n",
      "input_25 (InputLayer)           (None, 4, 4, 512)    0                                            \n",
      "__________________________________________________________________________________________________\n",
      "input_26 (InputLayer)           (None, 4, 4, 2048)   0                                            \n",
      "__________________________________________________________________________________________________\n",
      "global_average_pooling2d_15 (Gl (None, 512)          0           input_25[0][0]                   \n",
      "__________________________________________________________________________________________________\n",
      "global_average_pooling2d_16 (Gl (None, 2048)         0           input_26[0][0]                   \n",
      "__________________________________________________________________________________________________\n",
      "dense_90 (Dense)                (None, 128)          65536       global_average_pooling2d_15[0][0]\n",
      "__________________________________________________________________________________________________\n",
      "dense_91 (Dense)                (None, 512)          1048576     global_average_pooling2d_16[0][0]\n",
      "__________________________________________________________________________________________________\n",
      "batch_normalization_17 (BatchNo (None, 128)          512         dense_90[0][0]                   \n",
      "__________________________________________________________________________________________________\n",
      "batch_normalization_18 (BatchNo (None, 512)          2048        dense_91[0][0]                   \n",
      "__________________________________________________________________________________________________\n",
      "activation_115 (Activation)     (None, 128)          0           batch_normalization_17[0][0]     \n",
      "__________________________________________________________________________________________________\n",
      "activation_116 (Activation)     (None, 512)          0           batch_normalization_18[0][0]     \n",
      "__________________________________________________________________________________________________\n",
      "concatenate_6 (Concatenate)     (None, 640)          0           activation_115[0][0]             \n",
      "                                                                 activation_116[0][0]             \n",
      "__________________________________________________________________________________________________\n",
      "dropout_25 (Dropout)            (None, 640)          0           concatenate_6[0][0]              \n",
      "__________________________________________________________________________________________________\n",
      "dense_92 (Dense)                (None, 640)          409600      dropout_25[0][0]                 \n",
      "__________________________________________________________________________________________________\n",
      "batch_normalization_19 (BatchNo (None, 640)          2560        dense_92[0][0]                   \n",
      "__________________________________________________________________________________________________\n",
      "activation_117 (Activation)     (None, 640)          0           batch_normalization_19[0][0]     \n",
      "__________________________________________________________________________________________________\n",
      "dropout_26 (Dropout)            (None, 640)          0           activation_117[0][0]             \n",
      "__________________________________________________________________________________________________\n",
      "dense_93 (Dense)                (None, 37)           23717       dropout_26[0][0]                 \n",
      "==================================================================================================\n",
      "Total params: 1,552,549\n",
      "Trainable params: 1,549,989\n",
      "Non-trainable params: 2,560\n",
      "__________________________________________________________________________________________________\n"
     ]
    }
   ],
   "source": [
    "from keras.layers.pooling import GlobalAveragePooling2D\n",
    "from keras.layers.merge import Concatenate\n",
    "from keras.layers import Input, Dense\n",
    "from keras.layers.core import Dropout, Activation\n",
    "from keras.callbacks import ModelCheckpoint\n",
    "from keras.layers.normalization import BatchNormalization\n",
    "from keras.models import Model\n",
    "\n",
    "def input_branch(input_shape=None):\n",
    "    \n",
    "    size = int(input_shape[2] / 4)\n",
    "    \n",
    "    branch_input = Input(shape=input_shape)\n",
    "    branch = GlobalAveragePooling2D()(branch_input)\n",
    "    branch = Dense(size, use_bias=False, kernel_initializer='uniform')(branch)\n",
    "    branch = BatchNormalization()(branch)\n",
    "    branch = Activation(\"relu\")(branch)\n",
    "    return branch, branch_input\n",
    "\n",
    "vgg19_branch, vgg19_input = input_branch(input_shape=train_vgg19.shape[1:])\n",
    "resnet50_branch, resnet50_input = input_branch(input_shape=train_resnet50.shape[1:])\n",
    "concatenate_branches = Concatenate()([vgg19_branch, resnet50_branch])\n",
    "net = Dropout(0.3)(concatenate_branches)\n",
    "net = Dense(640, use_bias=False, kernel_initializer='uniform')(net)\n",
    "net = BatchNormalization()(net)\n",
    "net = Activation(\"relu\")(net)\n",
    "net = Dropout(0.3)(net)\n",
    "net = Dense(37, kernel_initializer='uniform', activation=\"softmax\")(net)\n",
    "\n",
    "model = Model(inputs=[vgg19_input, resnet50_input], outputs=[net])\n",
    "model.summary()"
   ]
  },
  {
   "cell_type": "code",
   "execution_count": 387,
   "metadata": {
    "scrolled": true
   },
   "outputs": [
    {
     "name": "stdout",
     "output_type": "stream",
     "text": [
      "Train on 800 samples, validate on 500 samples\n",
      "Epoch 1/10\n",
      "800/800 [==============================] - 7s 9ms/step - loss: 3.8613 - acc: 0.0512 - val_loss: 6.8124 - val_acc: 0.0400\n",
      "Epoch 2/10\n",
      "800/800 [==============================] - 4s 5ms/step - loss: 3.5774 - acc: 0.0875 - val_loss: 6.4960 - val_acc: 0.0460\n",
      "Epoch 3/10\n",
      "800/800 [==============================] - 3s 4ms/step - loss: 3.4932 - acc: 0.0950 - val_loss: 10.3431 - val_acc: 0.0580\n",
      "Epoch 4/10\n",
      "800/800 [==============================] - 4s 5ms/step - loss: 3.4031 - acc: 0.1200 - val_loss: 12.9891 - val_acc: 0.0440\n",
      "Epoch 5/10\n",
      "800/800 [==============================] - 3s 4ms/step - loss: 3.2505 - acc: 0.1537 - val_loss: 10.5936 - val_acc: 0.0360\n",
      "Epoch 6/10\n",
      "800/800 [==============================] - 3s 4ms/step - loss: 3.2194 - acc: 0.1725 - val_loss: 12.4644 - val_acc: 0.0380\n",
      "Epoch 7/10\n",
      "800/800 [==============================] - 3s 4ms/step - loss: 3.1529 - acc: 0.1987 - val_loss: 13.9900 - val_acc: 0.0360\n",
      "Epoch 8/10\n",
      "800/800 [==============================] - 3s 4ms/step - loss: 3.0976 - acc: 0.2112 - val_loss: 10.1786 - val_acc: 0.0660\n",
      "Epoch 9/10\n",
      "800/800 [==============================] - 3s 4ms/step - loss: 3.0451 - acc: 0.2125 - val_loss: 14.2011 - val_acc: 0.0460\n",
      "Epoch 10/10\n",
      "800/800 [==============================] - 3s 4ms/step - loss: 3.0106 - acc: 0.2137 - val_loss: 14.5055 - val_acc: 0.0340\n"
     ]
    },
    {
     "data": {
      "text/plain": [
       "<keras.callbacks.History at 0x1a73cb3390>"
      ]
     },
     "execution_count": 387,
     "metadata": {},
     "output_type": "execute_result"
    }
   ],
   "source": [
    "model.compile(loss='categorical_crossentropy', optimizer=\"rmsprop\", metrics=['accuracy'])\n",
    "#checkpointer = ModelCheckpoint(filepath='saved_models/bestmodel.hdf5', \n",
    "#                                verbose=1, save_best_only=True)\n",
    "model.fit([train_vgg19, train_resnet50], train_labels, \n",
    "          validation_data=([valid_vgg19, valid_resnet50], test_labels),\n",
    "          epochs=10, batch_size=4, verbose=1)"
   ]
  },
  {
   "cell_type": "code",
   "execution_count": 397,
   "metadata": {},
   "outputs": [
    {
     "name": "stdout",
     "output_type": "stream",
     "text": [
      "Test accuracy: 0.0020%\n"
     ]
    }
   ],
   "source": [
    "from sklearn.metrics import accuracy_score\n",
    "\n",
    "predictions = model.predict([test_vgg19, test_resnet50])\n",
    "breed_predictions = [np.argmax(prediction) for prediction in predictions]\n",
    "breed_true_labels = [np.argmax(test_labels) for true_label in test_labels]\n",
    "print('Test accuracy: %.4f%%' % (accuracy_score(breed_true_labels, breed_predictions)))"
   ]
  },
  {
   "cell_type": "markdown",
   "metadata": {},
   "source": [
    "# links\n",
    "http://machinememos.com/python/keras/artificial%20intelligence/machine%20learning/transfer%20learning/dog%20breed/neural%20networks/convolutional%20neural%20network/tensorflow/image%20classification/imagenet/2017/07/11/dog-breed-image-classification.html\n"
   ]
  },
  {
   "cell_type": "markdown",
   "metadata": {},
   "source": [
    "https://towardsdatascience.com/a-walkthrough-of-convolutional-neural-network-7f474f91d7bd"
   ]
  },
  {
   "cell_type": "markdown",
   "metadata": {},
   "source": [
    "http://cs231n.github.io/understanding-cnn/"
   ]
  },
  {
   "cell_type": "markdown",
   "metadata": {},
   "source": [
    "# Deep dreaming"
   ]
  },
  {
   "cell_type": "markdown",
   "metadata": {},
   "source": [
    "https://hackernoon.com/deep-dream-with-tensorflow-a-practical-guide-to-build-your-first-deep-dream-experience-f91df601f479"
   ]
  },
  {
   "cell_type": "code",
   "execution_count": 400,
   "metadata": {},
   "outputs": [
    {
     "ename": "NameError",
     "evalue": "name 'inception5h' is not defined",
     "output_type": "error",
     "traceback": [
      "\u001b[0;31m---------------------------------------------------------------------------\u001b[0m",
      "\u001b[0;31mNameError\u001b[0m                                 Traceback (most recent call last)",
      "\u001b[0;32m<ipython-input-400-162e1e06968b>\u001b[0m in \u001b[0;36m<module>\u001b[0;34m\u001b[0m\n\u001b[0;32m----> 1\u001b[0;31m \u001b[0minception5h\u001b[0m\u001b[0;34m\u001b[0m\u001b[0;34m\u001b[0m\u001b[0m\n\u001b[0m",
      "\u001b[0;31mNameError\u001b[0m: name 'inception5h' is not defined"
     ]
    }
   ],
   "source": []
  },
  {
   "cell_type": "code",
   "execution_count": null,
   "metadata": {},
   "outputs": [],
   "source": []
  }
 ],
 "metadata": {
  "kernelspec": {
   "display_name": "Python 3",
   "language": "python",
   "name": "python3"
  },
  "language_info": {
   "codemirror_mode": {
    "name": "ipython",
    "version": 3
   },
   "file_extension": ".py",
   "mimetype": "text/x-python",
   "name": "python",
   "nbconvert_exporter": "python",
   "pygments_lexer": "ipython3",
   "version": "3.7.1"
  }
 },
 "nbformat": 4,
 "nbformat_minor": 2
}
