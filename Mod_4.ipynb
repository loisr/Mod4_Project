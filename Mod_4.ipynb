{
  "nbformat": 4,
  "nbformat_minor": 0,
  "metadata": {
    "colab": {
      "name": "Mod_4.ipynb",
      "version": "0.3.2",
      "provenance": [],
      "include_colab_link": true
    },
    "kernelspec": {
      "name": "python3",
      "display_name": "Python 3"
    },
    "accelerator": "GPU"
  },
  "cells": [
    {
      "cell_type": "markdown",
      "metadata": {
        "id": "view-in-github",
        "colab_type": "text"
      },
      "source": [
        "<a href=\"https://colab.research.google.com/github/vanacorec/Mod4_Project/blob/master/Mod_4.ipynb\" target=\"_parent\"><img src=\"https://colab.research.google.com/assets/colab-badge.svg\" alt=\"Open In Colab\"/></a>"
      ]
    },
    {
      "metadata": {
        "id": "p5XySsG8aUrk",
        "colab_type": "text"
      },
      "cell_type": "markdown",
      "source": [
        "# **Classifying dogs and cats by breeds**\n",
        "\n",
        "This dataset comblines the Oxford IIIT Pet Dataset (http://www.robots.ox.ac.uk/~vgg/data/pets/) with the Standford Dog Dataset (http://vision.stanford.edu/aditya86/ImageNetDogs/) on the breeds that are in the Oxford dataset"
      ]
    },
    {
      "metadata": {
        "id": "ay_7Rnj2i1gB",
        "colab_type": "text"
      },
      "cell_type": "markdown",
      "source": [
        "# Bringing Images into Colab\n",
        "\n",
        "These images have already been seperated by catagory, and have been split into train and test sets.  These files were then ziped and uploaded onto GoogleDrive to be brought into Colab."
      ]
    },
    {
      "metadata": {
        "id": "v_6fcKKj4iEP",
        "colab_type": "code",
        "outputId": "ab5bae99-00c1-4ed5-da0b-dc6f9a6d39f9",
        "colab": {
          "base_uri": "https://localhost:8080/",
          "height": 343
        }
      },
      "cell_type": "code",
      "source": [
        "!pip install PyDrive"
      ],
      "execution_count": 1,
      "outputs": [
        {
          "output_type": "stream",
          "text": [
            "Collecting PyDrive\n",
            "\u001b[?25l  Downloading https://files.pythonhosted.org/packages/52/e0/0e64788e5dd58ce2d6934549676243dc69d982f198524be9b99e9c2a4fd5/PyDrive-1.3.1.tar.gz (987kB)\n",
            "\r\u001b[K    1% |▎                               | 10kB 18.3MB/s eta 0:00:01\r\u001b[K    2% |▋                               | 20kB 3.4MB/s eta 0:00:01\r\u001b[K    3% |█                               | 30kB 4.9MB/s eta 0:00:01\r\u001b[K    4% |█▎                              | 40kB 3.2MB/s eta 0:00:01\r\u001b[K    5% |█▋                              | 51kB 3.9MB/s eta 0:00:01\r\u001b[K    6% |██                              | 61kB 4.6MB/s eta 0:00:01\r\u001b[K    7% |██▎                             | 71kB 5.3MB/s eta 0:00:01\r\u001b[K    8% |██▋                             | 81kB 5.9MB/s eta 0:00:01\r\u001b[K    9% |███                             | 92kB 6.6MB/s eta 0:00:01\r\u001b[K    10% |███▎                            | 102kB 5.1MB/s eta 0:00:01\r\u001b[K    11% |███▋                            | 112kB 5.2MB/s eta 0:00:01\r\u001b[K    12% |████                            | 122kB 7.2MB/s eta 0:00:01\r\u001b[K    13% |████▎                           | 133kB 7.2MB/s eta 0:00:01\r\u001b[K    14% |████▋                           | 143kB 13.1MB/s eta 0:00:01\r\u001b[K    15% |█████                           | 153kB 13.2MB/s eta 0:00:01\r\u001b[K    16% |█████▎                          | 163kB 13.1MB/s eta 0:00:01\r\u001b[K    17% |█████▋                          | 174kB 13.5MB/s eta 0:00:01\r\u001b[K    18% |██████                          | 184kB 13.7MB/s eta 0:00:01\r\u001b[K    19% |██████▎                         | 194kB 13.7MB/s eta 0:00:01\r\u001b[K    20% |██████▋                         | 204kB 53.5MB/s eta 0:00:01\r\u001b[K    21% |███████                         | 215kB 15.4MB/s eta 0:00:01\r\u001b[K    22% |███████▎                        | 225kB 15.1MB/s eta 0:00:01\r\u001b[K    23% |███████▋                        | 235kB 15.2MB/s eta 0:00:01\r\u001b[K    24% |████████                        | 245kB 15.1MB/s eta 0:00:01\r\u001b[K    25% |████████▎                       | 256kB 15.0MB/s eta 0:00:01\r\u001b[K    26% |████████▋                       | 266kB 14.2MB/s eta 0:00:01\r\u001b[K    27% |█████████                       | 276kB 14.2MB/s eta 0:00:01\r\u001b[K    29% |█████████▎                      | 286kB 14.2MB/s eta 0:00:01\r\u001b[K    30% |█████████▋                      | 296kB 14.1MB/s eta 0:00:01\r\u001b[K    31% |██████████                      | 307kB 14.6MB/s eta 0:00:01\r\u001b[K    32% |██████████▎                     | 317kB 47.3MB/s eta 0:00:01\r\u001b[K    33% |██████████▋                     | 327kB 50.4MB/s eta 0:00:01\r\u001b[K    34% |███████████                     | 337kB 53.1MB/s eta 0:00:01\r\u001b[K    35% |███████████▎                    | 348kB 46.6MB/s eta 0:00:01\r\u001b[K    36% |███████████▋                    | 358kB 47.7MB/s eta 0:00:01\r\u001b[K    37% |████████████                    | 368kB 58.4MB/s eta 0:00:01\r\u001b[K    38% |████████████▎                   | 378kB 58.8MB/s eta 0:00:01\r\u001b[K    39% |████████████▋                   | 389kB 59.3MB/s eta 0:00:01\r\u001b[K    40% |█████████████                   | 399kB 21.1MB/s eta 0:00:01\r\u001b[K    41% |█████████████▎                  | 409kB 20.5MB/s eta 0:00:01\r\u001b[K    42% |█████████████▋                  | 419kB 20.5MB/s eta 0:00:01\r\u001b[K    43% |██████████████                  | 430kB 20.3MB/s eta 0:00:01\r\u001b[K    44% |██████████████▎                 | 440kB 20.1MB/s eta 0:00:01\r\u001b[K    45% |██████████████▋                 | 450kB 20.2MB/s eta 0:00:01\r\u001b[K    46% |███████████████                 | 460kB 20.0MB/s eta 0:00:01\r\u001b[K    47% |███████████████▎                | 471kB 19.9MB/s eta 0:00:01\r\u001b[K    48% |███████████████▋                | 481kB 19.9MB/s eta 0:00:01\r\u001b[K    49% |████████████████                | 491kB 19.7MB/s eta 0:00:01\r\u001b[K    50% |████████████████▎               | 501kB 50.3MB/s eta 0:00:01\r\u001b[K    51% |████████████████▋               | 512kB 49.9MB/s eta 0:00:01\r\u001b[K    52% |█████████████████               | 522kB 49.9MB/s eta 0:00:01\r\u001b[K    53% |█████████████████▎              | 532kB 51.5MB/s eta 0:00:01\r\u001b[K    54% |█████████████████▋              | 542kB 52.6MB/s eta 0:00:01\r\u001b[K    55% |██████████████████              | 552kB 63.6MB/s eta 0:00:01\r\u001b[K    57% |██████████████████▎             | 563kB 67.0MB/s eta 0:00:01\r\u001b[K    58% |██████████████████▋             | 573kB 67.6MB/s eta 0:00:01\r\u001b[K    59% |███████████████████             | 583kB 68.6MB/s eta 0:00:01\r\u001b[K    60% |███████████████████▎            | 593kB 69.4MB/s eta 0:00:01\r\u001b[K    61% |███████████████████▋            | 604kB 69.8MB/s eta 0:00:01\r\u001b[K    62% |████████████████████            | 614kB 78.6MB/s eta 0:00:01\r\u001b[K    63% |████████████████████▎           | 624kB 79.3MB/s eta 0:00:01\r\u001b[K    64% |████████████████████▋           | 634kB 78.1MB/s eta 0:00:01\r\u001b[K    65% |█████████████████████           | 645kB 77.8MB/s eta 0:00:01\r\u001b[K    66% |█████████████████████▎          | 655kB 76.0MB/s eta 0:00:01\r\u001b[K    67% |█████████████████████▋          | 665kB 51.5MB/s eta 0:00:01\r\u001b[K    68% |██████████████████████          | 675kB 50.6MB/s eta 0:00:01\r\u001b[K    69% |██████████████████████▎         | 686kB 50.6MB/s eta 0:00:01\r\u001b[K    70% |██████████████████████▋         | 696kB 51.1MB/s eta 0:00:01\r\u001b[K    71% |███████████████████████         | 706kB 51.1MB/s eta 0:00:01\r\u001b[K    72% |███████████████████████▎        | 716kB 51.1MB/s eta 0:00:01\r\u001b[K    73% |███████████████████████▋        | 727kB 51.1MB/s eta 0:00:01\r\u001b[K    74% |████████████████████████        | 737kB 51.1MB/s eta 0:00:01\r\u001b[K    75% |████████████████████████▎       | 747kB 51.5MB/s eta 0:00:01\r\u001b[K    76% |████████████████████████▋       | 757kB 51.7MB/s eta 0:00:01\r\u001b[K    77% |████████████████████████▉       | 768kB 76.3MB/s eta 0:00:01\r\u001b[K    78% |█████████████████████████▏      | 778kB 78.4MB/s eta 0:00:01\r\u001b[K    79% |█████████████████████████▌      | 788kB 63.8MB/s eta 0:00:01\r\u001b[K    80% |█████████████████████████▉      | 798kB 61.8MB/s eta 0:00:01\r\u001b[K    81% |██████████████████████████▏     | 808kB 59.7MB/s eta 0:00:01\r\u001b[K    82% |██████████████████████████▌     | 819kB 58.8MB/s eta 0:00:01\r\u001b[K    83% |██████████████████████████▉     | 829kB 58.9MB/s eta 0:00:01\r\u001b[K    85% |███████████████████████████▏    | 839kB 59.4MB/s eta 0:00:01\r\u001b[K    86% |███████████████████████████▌    | 849kB 57.9MB/s eta 0:00:01\r\u001b[K    87% |███████████████████████████▉    | 860kB 49.5MB/s eta 0:00:01\r\u001b[K    88% |████████████████████████████▏   | 870kB 48.7MB/s eta 0:00:01\r\u001b[K    89% |████████████████████████████▌   | 880kB 49.1MB/s eta 0:00:01\r\u001b[K    90% |████████████████████████████▉   | 890kB 57.8MB/s eta 0:00:01\r\u001b[K    91% |█████████████████████████████▏  | 901kB 59.6MB/s eta 0:00:01\r\u001b[K    92% |█████████████████████████████▌  | 911kB 61.9MB/s eta 0:00:01\r\u001b[K    93% |█████████████████████████████▉  | 921kB 62.7MB/s eta 0:00:01\r\u001b[K    94% |██████████████████████████████▏ | 931kB 62.3MB/s eta 0:00:01\r\u001b[K    95% |██████████████████████████████▌ | 942kB 62.6MB/s eta 0:00:01\r\u001b[K    96% |██████████████████████████████▉ | 952kB 64.1MB/s eta 0:00:01\r\u001b[K    97% |███████████████████████████████▏| 962kB 80.9MB/s eta 0:00:01\r\u001b[K    98% |███████████████████████████████▌| 972kB 83.1MB/s eta 0:00:01\r\u001b[K    99% |███████████████████████████████▉| 983kB 82.6MB/s eta 0:00:01\r\u001b[K    100% |████████████████████████████████| 993kB 22.0MB/s \n",
            "\u001b[?25hRequirement already satisfied: google-api-python-client>=1.2 in /usr/local/lib/python3.6/dist-packages (from PyDrive) (1.6.7)\n",
            "Requirement already satisfied: oauth2client>=4.0.0 in /usr/local/lib/python3.6/dist-packages (from PyDrive) (4.1.3)\n",
            "Requirement already satisfied: PyYAML>=3.0 in /usr/local/lib/python3.6/dist-packages (from PyDrive) (3.13)\n",
            "Requirement already satisfied: uritemplate<4dev,>=3.0.0 in /usr/local/lib/python3.6/dist-packages (from google-api-python-client>=1.2->PyDrive) (3.0.0)\n",
            "Requirement already satisfied: six<2dev,>=1.6.1 in /usr/local/lib/python3.6/dist-packages (from google-api-python-client>=1.2->PyDrive) (1.11.0)\n",
            "Requirement already satisfied: httplib2<1dev,>=0.9.2 in /usr/local/lib/python3.6/dist-packages (from google-api-python-client>=1.2->PyDrive) (0.11.3)\n",
            "Requirement already satisfied: pyasn1>=0.1.7 in /usr/local/lib/python3.6/dist-packages (from oauth2client>=4.0.0->PyDrive) (0.4.5)\n",
            "Requirement already satisfied: pyasn1-modules>=0.0.5 in /usr/local/lib/python3.6/dist-packages (from oauth2client>=4.0.0->PyDrive) (0.2.4)\n",
            "Requirement already satisfied: rsa>=3.1.4 in /usr/local/lib/python3.6/dist-packages (from oauth2client>=4.0.0->PyDrive) (4.0)\n",
            "Building wheels for collected packages: PyDrive\n",
            "  Building wheel for PyDrive (setup.py) ... \u001b[?25ldone\n",
            "\u001b[?25h  Stored in directory: /root/.cache/pip/wheels/fa/d2/9a/d3b6b506c2da98289e5d417215ce34b696db856643bad779f4\n",
            "Successfully built PyDrive\n",
            "Installing collected packages: PyDrive\n",
            "Successfully installed PyDrive-1.3.1\n"
          ],
          "name": "stdout"
        }
      ]
    },
    {
      "metadata": {
        "id": "m6ZKCPSE4jDU",
        "colab_type": "code",
        "colab": {}
      },
      "cell_type": "code",
      "source": [
        "from pydrive.auth import GoogleAuth\n",
        "from pydrive.drive import GoogleDrive\n",
        "from google.colab import auth\n",
        "from oauth2client.client import GoogleCredentials"
      ],
      "execution_count": 0,
      "outputs": []
    },
    {
      "metadata": {
        "id": "IXwZz87u4n7z",
        "colab_type": "code",
        "colab": {}
      },
      "cell_type": "code",
      "source": [
        "# authenticate my google account to be able to bring in the files\n",
        "auth.authenticate_user()\n",
        "gauth = GoogleAuth()\n",
        "gauth.credentials = GoogleCredentials.get_application_default()\n",
        "drive = GoogleDrive(gauth)"
      ],
      "execution_count": 0,
      "outputs": []
    },
    {
      "metadata": {
        "id": "08lTzxPl4sYe",
        "colab_type": "code",
        "colab": {}
      },
      "cell_type": "code",
      "source": [
        "# bring in test data\n",
        "download = drive.CreateFile({'id': '1zjo7rZ2Wopif7o3-qBYxK1p_rb7fAP94'})\n",
        "download.GetContentFile('test.zip')"
      ],
      "execution_count": 0,
      "outputs": []
    },
    {
      "metadata": {
        "id": "Nkmtv-uRNRLj",
        "colab_type": "code",
        "colab": {}
      },
      "cell_type": "code",
      "source": [
        "# bring in train data\n",
        "download = drive.CreateFile({'id': '1wu-v7RDA9cAJtWXOmCDiURouxC0EVhDM'})\n",
        "download.GetContentFile('train.zip')"
      ],
      "execution_count": 0,
      "outputs": []
    },
    {
      "metadata": {
        "id": "LHsSVFOl78MY",
        "colab_type": "code",
        "colab": {}
      },
      "cell_type": "code",
      "source": [
        "# unzip test data\n",
        "import zipfile\n",
        "zip_ref = zipfile.ZipFile(\"test.zip\", 'r')\n",
        "zip_ref.extractall(\"content\")\n",
        "zip_ref.close()"
      ],
      "execution_count": 0,
      "outputs": []
    },
    {
      "metadata": {
        "id": "yTqAA-ySNxKb",
        "colab_type": "code",
        "colab": {}
      },
      "cell_type": "code",
      "source": [
        "# unzip train data\n",
        "zip_ref = zipfile.ZipFile(\"train.zip\", 'r')\n",
        "zip_ref.extractall(\"content\")\n",
        "zip_ref.close()"
      ],
      "execution_count": 0,
      "outputs": []
    },
    {
      "metadata": {
        "id": "xphQ1neIk4rC",
        "colab_type": "text"
      },
      "cell_type": "markdown",
      "source": [
        "# EDA"
      ]
    },
    {
      "metadata": {
        "id": "oM-UEw2xljQh",
        "colab_type": "code",
        "colab": {
          "base_uri": "https://localhost:8080/",
          "height": 34
        },
        "outputId": "17a0c336-c4de-4af9-f1ee-efb0a5625d1a"
      },
      "cell_type": "code",
      "source": [
        "# import packages for running models and data visualization \n",
        "import pandas as pd\n",
        "import numpy as np \n",
        "import itertools\n",
        "import keras\n",
        "from sklearn import metrics\n",
        "from sklearn.metrics import confusion_matrix\n",
        "from keras.models import Sequential \n",
        "from keras import optimizers, models, layers\n",
        "from keras.preprocessing import image\n",
        "from keras.preprocessing.image import ImageDataGenerator, array_to_img, img_to_array, load_img\n",
        "from keras.layers import Dropout, Flatten, Dense \n",
        "from keras import applications \n",
        "from keras.utils.np_utils import to_categorical \n",
        "import matplotlib.pyplot as plt \n",
        "import matplotlib.image as mpimg\n",
        "%matplotlib inline\n",
        "import math \n",
        "from random import shuffle\n",
        "import os, shutil, re\n",
        "import scipy\n",
        "from scipy import ndimage\n",
        "from PIL import Image\n",
        "from sklearn.metrics import accuracy_score"
      ],
      "execution_count": 1,
      "outputs": [
        {
          "output_type": "stream",
          "text": [
            "Using TensorFlow backend.\n"
          ],
          "name": "stderr"
        }
      ]
    },
    {
      "metadata": {
        "id": "q_93A3J3nueb",
        "colab_type": "code",
        "colab": {}
      },
      "cell_type": "code",
      "source": [
        "# get the counts of how many images are in each folder\n",
        "def get_category_counts(directory):\n",
        "    counts = {}\n",
        "    os.chdir(\"/content/content/\")\n",
        "    for breed in os.listdir(directory):\n",
        "        counts[breed] = len([file for file in os.listdir(os.path.join(directory,breed)) if file.endswith('.jpg')])\n",
        "    return counts"
      ],
      "execution_count": 0,
      "outputs": []
    },
    {
      "metadata": {
        "id": "UD41OG8poTKP",
        "colab_type": "code",
        "colab": {}
      },
      "cell_type": "code",
      "source": [
        "# get counts of training photos\n",
        "all_counts = get_category_counts('train')"
      ],
      "execution_count": 0,
      "outputs": []
    },
    {
      "metadata": {
        "id": "_Nxl18c1n4jV",
        "colab_type": "code",
        "colab": {
          "base_uri": "https://localhost:8080/",
          "height": 400
        },
        "outputId": "a5c7671a-dae5-4c39-df4c-4b689ff897ec"
      },
      "cell_type": "code",
      "source": [
        "# plot counts of training photos\n",
        "pd.Series(all_counts, name='train').plot(kind = 'bar')"
      ],
      "execution_count": 12,
      "outputs": [
        {
          "output_type": "execute_result",
          "data": {
            "text/plain": [
              "<matplotlib.axes._subplots.AxesSubplot at 0x7ff37bb37e10>"
            ]
          },
          "metadata": {
            "tags": []
          },
          "execution_count": 12
        },
        {
          "output_type": "display_data",
          "data": {
            "image/png": "[encoded data removed]",
            "text/plain": [
              "<Figure size 432x288 with 1 Axes>"
            ]
          },
          "metadata": {
            "tags": []
          }
        }
      ]
    },
    {
      "metadata": {
        "id": "RwJQFxoCh5jz",
        "colab_type": "text"
      },
      "cell_type": "markdown",
      "source": [
        "Breeds that only have 160 photos were only in the Oxford dataset (for exsample all of the cat breeds as the Standord dataset only contianed pictures of dog breeds), breeds that have more where in both the Oxford and the Stanford datasets"
      ]
    },
    {
      "metadata": {
        "id": "oh0X1W5-OMWK",
        "colab_type": "code",
        "colab": {}
      },
      "cell_type": "code",
      "source": [
        "# get counts for testing photos\n",
        "all_counts = get_category_counts('test')"
      ],
      "execution_count": 0,
      "outputs": []
    },
    {
      "metadata": {
        "id": "H9DZVJ5rOM5S",
        "colab_type": "code",
        "colab": {
          "base_uri": "https://localhost:8080/",
          "height": 400
        },
        "outputId": "42dda7ef-92a2-4046-ca1c-5ef708f4c5a7"
      },
      "cell_type": "code",
      "source": [
        "# plot counts of testing photos\n",
        "pd.Series(all_counts, name='train').plot(kind = 'bar')"
      ],
      "execution_count": 14,
      "outputs": [
        {
          "output_type": "execute_result",
          "data": {
            "text/plain": [
              "<matplotlib.axes._subplots.AxesSubplot at 0x7ff35ec5ef98>"
            ]
          },
          "metadata": {
            "tags": []
          },
          "execution_count": 14
        },
        {
          "output_type": "display_data",
          "data": {
            "image/png": "[encoded data removed]",
            "text/plain": [
              "<Figure size 432x288 with 1 Axes>"
            ]
          },
          "metadata": {
            "tags": []
          }
        }
      ]
    },
    {
      "metadata": {
        "id": "F4TCrZKlipgv",
        "colab_type": "text"
      },
      "cell_type": "markdown",
      "source": [
        "You will notice that the data is in a simular shape as the testing data, the same breeds that have 40 here had 160 there and the same ones that have more there also have the same proportion of more here."
      ]
    },
    {
      "metadata": {
        "id": "1c0qbPXVxMnx",
        "colab_type": "text"
      },
      "cell_type": "markdown",
      "source": [
        "# Set up data to run models"
      ]
    },
    {
      "metadata": {
        "id": "zVjvHEjm7YEL",
        "colab_type": "code",
        "colab": {}
      },
      "cell_type": "code",
      "source": [
        "def get_train_test_images_labels(directory, test_batch_size = 32, train_batch_size = 32, target_size = (128,128)):\n",
        "    '''\n",
        "    Change the images into a tensor\n",
        "    Rescale them so the math is easier for the RGB colors\n",
        "    Make the lables for the images into a matrix\n",
        "    '''\n",
        "    os.chdir(directory)\n",
        "    train_data_dir = 'train'\n",
        "    test_data_dir = 'test'\n",
        "\n",
        "    # get data the validation, and reshape them\n",
        "    test_generator = ImageDataGenerator(rescale=1./255).flow_from_directory(\n",
        "            test_data_dir, \n",
        "            target_size=target_size, batch_size=test_batch_size) \n",
        "\n",
        "    # get data from the train directory and reshape them\n",
        "    train_generator = ImageDataGenerator(rescale=1./255).flow_from_directory(\n",
        "            train_data_dir, \n",
        "            target_size=target_size, batch_size= train_batch_size)\n",
        "\n",
        "    # create the data sets\n",
        "    train_images, train_labels = next(train_generator)\n",
        "    test_images, test_labels = next(test_generator)\n",
        "    print(\"train_images shape: \",train_images.shape)\n",
        "    print(\"train_labels shape: \", train_labels.shape) \n",
        "    print(\"test_images shape: \", test_images.shape)\n",
        "    print(\"test_labels shape: \", test_labels.shape)\n",
        "    \n",
        "    return train_images, train_labels, test_images, test_labels"
      ],
      "execution_count": 0,
      "outputs": []
    },
    {
      "metadata": {
        "id": "-_V3v5gWPKDj",
        "colab_type": "code",
        "colab": {
          "base_uri": "https://localhost:8080/",
          "height": 119
        },
        "outputId": "afa16936-ff0e-4bdb-c4a3-d3ea94684850"
      },
      "cell_type": "code",
      "source": [
        "train_images, train_labels, test_images, test_labels = get_train_test_images_labels('/content/content', 2122,8457)"
      ],
      "execution_count": 3,
      "outputs": [
        {
          "output_type": "stream",
          "text": [
            "Found 2122 images belonging to 37 classes.\n",
            "Found 8457 images belonging to 37 classes.\n",
            "train_images shape:  (8457, 128, 128, 3)\n",
            "train_labels shape:  (8457, 37)\n",
            "test_images shape:  (2122, 128, 128, 3)\n",
            "test_labels shape:  (2122, 37)\n"
          ],
          "name": "stdout"
        }
      ]
    },
    {
      "metadata": {
        "id": "pG9_PmU0PrIP",
        "colab_type": "text"
      },
      "cell_type": "markdown",
      "source": [
        "Need to reshape the data"
      ]
    },
    {
      "metadata": {
        "id": "iwNUW_-KPTn_",
        "colab_type": "code",
        "colab": {
          "base_uri": "https://localhost:8080/",
          "height": 51
        },
        "outputId": "dc046d33-e657-4bd1-be00-ece771796b00"
      },
      "cell_type": "code",
      "source": [
        "def reshape_image_matrices(train_images, test_images):\n",
        "    # flatten the tensors into matrices\n",
        "    \n",
        "    train_x = train_images.reshape(train_images.shape[0], -1)   # The \"-1\" makes reshape flatten the remaining dimensions\n",
        "    test_x = test_images.reshape(test_images.shape[0], -1)\n",
        "\n",
        "\n",
        "    print (\"train_x's shape: \" + str(train_x.shape)) #12288 = 64*64*3 (pixels length * pix width * rgb)\n",
        "    print (\"test_x's shape: \" + str(test_x.shape))\n",
        "    return train_x, test_x\n",
        "train_x, test_x = reshape_image_matrices(train_images,test_images)"
      ],
      "execution_count": 4,
      "outputs": [
        {
          "output_type": "stream",
          "text": [
            "train_x's shape: (8457, 49152)\n",
            "test_x's shape: (2122, 49152)\n"
          ],
          "name": "stdout"
        }
      ]
    },
    {
      "metadata": {
        "id": "kzymLCIexVat",
        "colab_type": "code",
        "colab": {
          "base_uri": "https://localhost:8080/",
          "height": 136
        },
        "outputId": "2e3a30e2-cea4-4b0a-9094-9221470d3166"
      },
      "cell_type": "code",
      "source": [
        "print(train_x)"
      ],
      "execution_count": 22,
      "outputs": [
        {
          "output_type": "stream",
          "text": [
            "[[0.3254902  0.3372549  0.35686275 ... 0.05490196 0.09019608 0.1254902 ]\n",
            " [0.69803923 0.61960787 0.4901961  ... 0.7803922  0.7058824  0.5803922 ]\n",
            " [0.00392157 0.00392157 0.00392157 ... 0.7294118  0.7294118  0.7294118 ]\n",
            " ...\n",
            " [0.6        0.43137258 0.29803923 ... 0.34509805 0.21568629 0.08627451]\n",
            " [0.24705884 0.24705884 0.2392157  ... 0.24705884 0.24705884 0.24705884]\n",
            " [0.07450981 0.06666667 0.00784314 ... 0.45882356 0.4784314  0.25882354]]\n"
          ],
          "name": "stdout"
        }
      ]
    },
    {
      "metadata": {
        "id": "VLtwtEhgxTRQ",
        "colab_type": "text"
      },
      "cell_type": "markdown",
      "source": [
        "# Run CNN"
      ]
    },
    {
      "metadata": {
        "id": "ouEDWFb1xYbY",
        "colab_type": "text"
      },
      "cell_type": "markdown",
      "source": [
        "## SGD with 64 batch size"
      ]
    },
    {
      "metadata": {
        "id": "rzu-DTzkP2DU",
        "colab_type": "code",
        "colab": {
          "base_uri": "https://localhost:8080/",
          "height": 88
        },
        "outputId": "a772eada-b603-4743-a034-45df704d9017"
      },
      "cell_type": "code",
      "source": [
        "# set up a Sequential Keras model\n",
        "model = models.Sequential()\n",
        "model.add(layers.Dense(64, activation='relu', input_shape=(49152,))) #input shape is # of features\n",
        "model.add(layers.Dense(64, activation='relu'))\n",
        "model.add(layers.Dense(37, activation='softmax'))"
      ],
      "execution_count": 26,
      "outputs": [
        {
          "output_type": "stream",
          "text": [
            "WARNING:tensorflow:From /usr/local/lib/python3.6/dist-packages/tensorflow/python/framework/op_def_library.py:263: colocate_with (from tensorflow.python.framework.ops) is deprecated and will be removed in a future version.\n",
            "Instructions for updating:\n",
            "Colocations handled automatically by placer.\n"
          ],
          "name": "stdout"
        }
      ]
    },
    {
      "metadata": {
        "id": "IIlptg11P8bc",
        "colab_type": "code",
        "colab": {
          "base_uri": "https://localhost:8080/",
          "height": 4168
        },
        "outputId": "8ba01ee0-5080-41d7-c03d-bd50c178e7cd"
      },
      "cell_type": "code",
      "source": [
        "# run the model\n",
        "\n",
        "model.compile(optimizer='SGD',\n",
        "              loss='categorical_crossentropy',\n",
        "              metrics=['accuracy'])\n",
        "\n",
        "\n",
        "history = model.fit(train_x,\n",
        "                    train_labels,\n",
        "                    epochs=120,batch_size = 64)"
      ],
      "execution_count": 27,
      "outputs": [
        {
          "output_type": "stream",
          "text": [
            "WARNING:tensorflow:From /usr/local/lib/python3.6/dist-packages/tensorflow/python/ops/math_ops.py:3066: to_int32 (from tensorflow.python.ops.math_ops) is deprecated and will be removed in a future version.\n",
            "Instructions for updating:\n",
            "Use tf.cast instead.\n",
            "Epoch 1/120\n",
            "8457/8457 [==============================] - 7s 820us/step - loss: 3.6077 - acc: 0.0449\n",
            "Epoch 2/120\n",
            "8457/8457 [==============================] - 6s 756us/step - loss: 3.5674 - acc: 0.0578\n",
            "Epoch 3/120\n",
            "8457/8457 [==============================] - 6s 752us/step - loss: 3.5306 - acc: 0.0591\n",
            "Epoch 4/120\n",
            "8457/8457 [==============================] - 6s 755us/step - loss: 3.4887 - acc: 0.0707\n",
            "Epoch 5/120\n",
            "8457/8457 [==============================] - 6s 744us/step - loss: 3.4548 - acc: 0.0748\n",
            "Epoch 6/120\n",
            "8457/8457 [==============================] - 7s 808us/step - loss: 3.4307 - acc: 0.0783\n",
            "Epoch 7/120\n",
            "8457/8457 [==============================] - 6s 731us/step - loss: 3.4102 - acc: 0.0829\n",
            "Epoch 8/120\n",
            "8457/8457 [==============================] - 6s 722us/step - loss: 3.3883 - acc: 0.0847\n",
            "Epoch 9/120\n",
            "8457/8457 [==============================] - 6s 730us/step - loss: 3.3768 - acc: 0.0906\n",
            "Epoch 10/120\n",
            "8457/8457 [==============================] - 6s 724us/step - loss: 3.3590 - acc: 0.0912\n",
            "Epoch 11/120\n",
            "8457/8457 [==============================] - 6s 724us/step - loss: 3.3431 - acc: 0.0957\n",
            "Epoch 12/120\n",
            "8457/8457 [==============================] - 6s 744us/step - loss: 3.3272 - acc: 0.1010\n",
            "Epoch 13/120\n",
            "8457/8457 [==============================] - 6s 751us/step - loss: 3.3078 - acc: 0.1061\n",
            "Epoch 14/120\n",
            "8457/8457 [==============================] - 6s 731us/step - loss: 3.2870 - acc: 0.1133\n",
            "Epoch 15/120\n",
            "8457/8457 [==============================] - 6s 728us/step - loss: 3.2730 - acc: 0.1141\n",
            "Epoch 16/120\n",
            "8457/8457 [==============================] - 6s 724us/step - loss: 3.2512 - acc: 0.1191\n",
            "Epoch 17/120\n",
            "8457/8457 [==============================] - 6s 755us/step - loss: 3.2368 - acc: 0.1253\n",
            "Epoch 18/120\n",
            "8457/8457 [==============================] - 6s 724us/step - loss: 3.2103 - acc: 0.1297\n",
            "Epoch 19/120\n",
            "8457/8457 [==============================] - 6s 724us/step - loss: 3.1973 - acc: 0.1274\n",
            "Epoch 20/120\n",
            "8457/8457 [==============================] - 6s 729us/step - loss: 3.1807 - acc: 0.1337\n",
            "Epoch 21/120\n",
            "8457/8457 [==============================] - 6s 729us/step - loss: 3.1617 - acc: 0.1408\n",
            "Epoch 22/120\n",
            "8457/8457 [==============================] - 6s 726us/step - loss: 3.1422 - acc: 0.1394\n",
            "Epoch 23/120\n",
            "8457/8457 [==============================] - 6s 732us/step - loss: 3.1302 - acc: 0.1447\n",
            "Epoch 24/120\n",
            "8457/8457 [==============================] - 6s 736us/step - loss: 3.1137 - acc: 0.1528\n",
            "Epoch 25/120\n",
            "8457/8457 [==============================] - 6s 744us/step - loss: 3.0880 - acc: 0.1549\n",
            "Epoch 26/120\n",
            "8457/8457 [==============================] - 6s 754us/step - loss: 3.0837 - acc: 0.1534\n",
            "Epoch 27/120\n",
            "8457/8457 [==============================] - 6s 733us/step - loss: 3.0610 - acc: 0.1645\n",
            "Epoch 28/120\n",
            "8457/8457 [==============================] - 6s 723us/step - loss: 3.0375 - acc: 0.1694\n",
            "Epoch 29/120\n",
            "8457/8457 [==============================] - 6s 739us/step - loss: 3.0299 - acc: 0.1729\n",
            "Epoch 30/120\n",
            "8457/8457 [==============================] - 6s 730us/step - loss: 3.0169 - acc: 0.1735\n",
            "Epoch 31/120\n",
            "8457/8457 [==============================] - 6s 737us/step - loss: 3.0027 - acc: 0.1815\n",
            "Epoch 32/120\n",
            "8457/8457 [==============================] - 6s 733us/step - loss: 2.9778 - acc: 0.1814\n",
            "Epoch 33/120\n",
            "8457/8457 [==============================] - 6s 725us/step - loss: 2.9646 - acc: 0.1832\n",
            "Epoch 34/120\n",
            "8457/8457 [==============================] - 6s 732us/step - loss: 2.9566 - acc: 0.1933\n",
            "Epoch 35/120\n",
            "8457/8457 [==============================] - 6s 716us/step - loss: 2.9738 - acc: 0.1890\n",
            "Epoch 36/120\n",
            "8457/8457 [==============================] - 6s 713us/step - loss: 2.9365 - acc: 0.1938\n",
            "Epoch 37/120\n",
            "8457/8457 [==============================] - 6s 720us/step - loss: 2.9000 - acc: 0.2026\n",
            "Epoch 38/120\n",
            "8457/8457 [==============================] - 6s 712us/step - loss: 2.8733 - acc: 0.2096\n",
            "Epoch 39/120\n",
            "8457/8457 [==============================] - 6s 723us/step - loss: 2.8901 - acc: 0.2096\n",
            "Epoch 40/120\n",
            "8457/8457 [==============================] - 6s 724us/step - loss: 2.8574 - acc: 0.2156\n",
            "Epoch 41/120\n",
            "8457/8457 [==============================] - 6s 736us/step - loss: 2.8372 - acc: 0.2178\n",
            "Epoch 42/120\n",
            "8457/8457 [==============================] - 6s 731us/step - loss: 2.8159 - acc: 0.2230\n",
            "Epoch 43/120\n",
            "8457/8457 [==============================] - 6s 721us/step - loss: 2.7964 - acc: 0.2273\n",
            "Epoch 44/120\n",
            "8457/8457 [==============================] - 6s 719us/step - loss: 2.8028 - acc: 0.2211\n",
            "Epoch 45/120\n",
            "8457/8457 [==============================] - 6s 714us/step - loss: 2.7700 - acc: 0.2354\n",
            "Epoch 46/120\n",
            "8457/8457 [==============================] - 6s 720us/step - loss: 2.7457 - acc: 0.2402\n",
            "Epoch 47/120\n",
            "8457/8457 [==============================] - 6s 743us/step - loss: 2.7646 - acc: 0.2351\n",
            "Epoch 48/120\n",
            "8457/8457 [==============================] - 6s 726us/step - loss: 2.7147 - acc: 0.2483\n",
            "Epoch 49/120\n",
            "8457/8457 [==============================] - 6s 741us/step - loss: 2.7096 - acc: 0.2504\n",
            "Epoch 50/120\n",
            "8457/8457 [==============================] - 6s 719us/step - loss: 2.7155 - acc: 0.2450\n",
            "Epoch 51/120\n",
            "8457/8457 [==============================] - 6s 740us/step - loss: 2.6782 - acc: 0.2614\n",
            "Epoch 52/120\n",
            "8457/8457 [==============================] - 6s 762us/step - loss: 2.6640 - acc: 0.2593\n",
            "Epoch 53/120\n",
            "8457/8457 [==============================] - 6s 752us/step - loss: 2.6585 - acc: 0.2635\n",
            "Epoch 54/120\n",
            "8457/8457 [==============================] - 6s 765us/step - loss: 2.6157 - acc: 0.2705\n",
            "Epoch 55/120\n",
            "8457/8457 [==============================] - 6s 756us/step - loss: 2.6194 - acc: 0.2818\n",
            "Epoch 56/120\n",
            "8457/8457 [==============================] - 6s 758us/step - loss: 2.6074 - acc: 0.2781\n",
            "Epoch 57/120\n",
            "8457/8457 [==============================] - 6s 755us/step - loss: 2.5853 - acc: 0.2863\n",
            "Epoch 58/120\n",
            "8457/8457 [==============================] - 6s 753us/step - loss: 2.5880 - acc: 0.2840\n",
            "Epoch 59/120\n",
            "8457/8457 [==============================] - 6s 746us/step - loss: 2.5609 - acc: 0.2871\n",
            "Epoch 60/120\n",
            "8457/8457 [==============================] - 6s 754us/step - loss: 2.5427 - acc: 0.2919\n",
            "Epoch 61/120\n",
            "8457/8457 [==============================] - 7s 792us/step - loss: 2.5208 - acc: 0.2968\n",
            "Epoch 62/120\n",
            "8457/8457 [==============================] - 7s 786us/step - loss: 2.5347 - acc: 0.3020\n",
            "Epoch 63/120\n",
            "8457/8457 [==============================] - 7s 770us/step - loss: 2.5032 - acc: 0.3079\n",
            "Epoch 64/120\n",
            "8457/8457 [==============================] - 7s 780us/step - loss: 2.4678 - acc: 0.3143\n",
            "Epoch 65/120\n",
            "8457/8457 [==============================] - 7s 783us/step - loss: 2.4822 - acc: 0.3130\n",
            "Epoch 66/120\n",
            "8457/8457 [==============================] - 7s 782us/step - loss: 2.4578 - acc: 0.3139\n",
            "Epoch 67/120\n",
            "8457/8457 [==============================] - 7s 775us/step - loss: 2.4201 - acc: 0.3286\n",
            "Epoch 68/120\n",
            "8457/8457 [==============================] - 6s 768us/step - loss: 2.4034 - acc: 0.3305\n",
            "Epoch 69/120\n",
            "8457/8457 [==============================] - 7s 778us/step - loss: 2.4186 - acc: 0.3259\n",
            "Epoch 70/120\n",
            "8457/8457 [==============================] - 6s 748us/step - loss: 2.4103 - acc: 0.3319\n",
            "Epoch 71/120\n",
            "8457/8457 [==============================] - 6s 735us/step - loss: 2.4039 - acc: 0.3297\n",
            "Epoch 72/120\n",
            "8457/8457 [==============================] - 7s 785us/step - loss: 2.3638 - acc: 0.3398\n",
            "Epoch 73/120\n",
            "8457/8457 [==============================] - 6s 768us/step - loss: 2.3606 - acc: 0.3457\n",
            "Epoch 74/120\n",
            "8457/8457 [==============================] - 7s 774us/step - loss: 2.3411 - acc: 0.3465\n",
            "Epoch 75/120\n",
            "8457/8457 [==============================] - 7s 818us/step - loss: 2.2972 - acc: 0.3588\n",
            "Epoch 76/120\n",
            "8457/8457 [==============================] - 7s 796us/step - loss: 2.3333 - acc: 0.3489\n",
            "Epoch 77/120\n",
            "8457/8457 [==============================] - 6s 764us/step - loss: 2.2833 - acc: 0.3643\n",
            "Epoch 78/120\n",
            "8457/8457 [==============================] - 6s 728us/step - loss: 2.3200 - acc: 0.3525\n",
            "Epoch 79/120\n",
            "8457/8457 [==============================] - 6s 725us/step - loss: 2.2458 - acc: 0.3686\n",
            "Epoch 80/120\n",
            "8457/8457 [==============================] - 6s 725us/step - loss: 2.3253 - acc: 0.3500\n",
            "Epoch 81/120\n",
            "8457/8457 [==============================] - 6s 740us/step - loss: 2.2600 - acc: 0.3666\n",
            "Epoch 82/120\n",
            "8457/8457 [==============================] - 6s 747us/step - loss: 2.2375 - acc: 0.3732\n",
            "Epoch 83/120\n",
            "8457/8457 [==============================] - 6s 741us/step - loss: 2.1768 - acc: 0.3932\n",
            "Epoch 84/120\n",
            "8457/8457 [==============================] - 6s 748us/step - loss: 2.1983 - acc: 0.3821\n",
            "Epoch 85/120\n",
            "8457/8457 [==============================] - 6s 734us/step - loss: 2.2092 - acc: 0.3798\n",
            "Epoch 86/120\n",
            "8457/8457 [==============================] - 6s 725us/step - loss: 2.1920 - acc: 0.3919\n",
            "Epoch 87/120\n",
            "8457/8457 [==============================] - 6s 734us/step - loss: 2.1516 - acc: 0.3960\n",
            "Epoch 88/120\n",
            "8457/8457 [==============================] - 6s 747us/step - loss: 2.1646 - acc: 0.3910\n",
            "Epoch 89/120\n",
            "8457/8457 [==============================] - 6s 743us/step - loss: 2.1693 - acc: 0.3900\n",
            "Epoch 90/120\n",
            "8457/8457 [==============================] - 6s 727us/step - loss: 2.1306 - acc: 0.4049\n",
            "Epoch 91/120\n",
            "8457/8457 [==============================] - 6s 726us/step - loss: 2.2821 - acc: 0.3699\n",
            "Epoch 92/120\n",
            "8457/8457 [==============================] - 6s 732us/step - loss: 2.1247 - acc: 0.4007\n",
            "Epoch 93/120\n",
            "8457/8457 [==============================] - 6s 742us/step - loss: 2.1466 - acc: 0.3949\n",
            "Epoch 94/120\n",
            "8457/8457 [==============================] - 6s 722us/step - loss: 2.1186 - acc: 0.4017\n",
            "Epoch 95/120\n",
            "8457/8457 [==============================] - 6s 726us/step - loss: 2.1270 - acc: 0.3969\n",
            "Epoch 96/120\n",
            "8457/8457 [==============================] - 6s 734us/step - loss: 2.1792 - acc: 0.3895\n",
            "Epoch 97/120\n",
            "8457/8457 [==============================] - 6s 728us/step - loss: 2.1520 - acc: 0.3982\n",
            "Epoch 98/120\n",
            "8457/8457 [==============================] - 7s 770us/step - loss: 2.0613 - acc: 0.4194\n",
            "Epoch 99/120\n",
            "8457/8457 [==============================] - 7s 777us/step - loss: 2.1124 - acc: 0.4079\n",
            "Epoch 100/120\n",
            "8457/8457 [==============================] - 6s 752us/step - loss: 2.0638 - acc: 0.4165\n",
            "Epoch 101/120\n",
            "8457/8457 [==============================] - 6s 744us/step - loss: 2.0936 - acc: 0.4049\n",
            "Epoch 102/120\n",
            "8457/8457 [==============================] - 6s 752us/step - loss: 2.1142 - acc: 0.3978\n",
            "Epoch 103/120\n",
            "8457/8457 [==============================] - 6s 735us/step - loss: 2.1016 - acc: 0.4120\n",
            "Epoch 104/120\n",
            "8457/8457 [==============================] - 6s 732us/step - loss: 2.0406 - acc: 0.4220\n",
            "Epoch 105/120\n",
            "8457/8457 [==============================] - 6s 762us/step - loss: 1.9875 - acc: 0.4372\n",
            "Epoch 106/120\n",
            "8457/8457 [==============================] - 6s 733us/step - loss: 2.0308 - acc: 0.4224\n",
            "Epoch 107/120\n",
            "8457/8457 [==============================] - 6s 737us/step - loss: 1.9692 - acc: 0.4411\n",
            "Epoch 108/120\n",
            "8457/8457 [==============================] - 6s 730us/step - loss: 1.9070 - acc: 0.4602\n",
            "Epoch 109/120\n",
            "8457/8457 [==============================] - 6s 729us/step - loss: 2.0502 - acc: 0.4243\n",
            "Epoch 110/120\n",
            "8457/8457 [==============================] - 6s 740us/step - loss: 1.9794 - acc: 0.4385\n",
            "Epoch 111/120\n",
            "8457/8457 [==============================] - 6s 734us/step - loss: 1.8977 - acc: 0.4638\n",
            "Epoch 112/120\n",
            "8457/8457 [==============================] - 6s 716us/step - loss: 1.9763 - acc: 0.4508\n",
            "Epoch 113/120\n",
            "8457/8457 [==============================] - 6s 718us/step - loss: 1.8871 - acc: 0.4641\n",
            "Epoch 114/120\n",
            "8457/8457 [==============================] - 6s 727us/step - loss: 1.8988 - acc: 0.4656\n",
            "Epoch 115/120\n",
            "8457/8457 [==============================] - 6s 726us/step - loss: 1.9078 - acc: 0.4697\n",
            "Epoch 116/120\n",
            "8457/8457 [==============================] - 6s 727us/step - loss: 1.8628 - acc: 0.4766\n",
            "Epoch 117/120\n",
            "8457/8457 [==============================] - 6s 740us/step - loss: 1.9701 - acc: 0.4405\n",
            "Epoch 118/120\n",
            "8457/8457 [==============================] - 6s 737us/step - loss: 1.9161 - acc: 0.4562\n",
            "Epoch 119/120\n",
            "8457/8457 [==============================] - 6s 724us/step - loss: 1.8403 - acc: 0.4785\n",
            "Epoch 120/120\n",
            "8457/8457 [==============================] - 6s 759us/step - loss: 1.7686 - acc: 0.5034\n"
          ],
          "name": "stdout"
        }
      ]
    },
    {
      "metadata": {
        "id": "v_b7qfP2QBlE",
        "colab_type": "code",
        "colab": {
          "base_uri": "https://localhost:8080/",
          "height": 51
        },
        "outputId": "0bd91fc7-0101-4530-bb38-241bef903876"
      },
      "cell_type": "code",
      "source": [
        "# lets see how the model preforms on the test data\n",
        "# random guessing would be 2.7% so it does do better then that but not by much\n",
        "score = model.evaluate(test_x, test_labels)\n",
        "print(list(zip(model.metrics_names, score)))"
      ],
      "execution_count": 28,
      "outputs": [
        {
          "output_type": "stream",
          "text": [
            "2122/2122 [==============================] - 1s 313us/step\n",
            "[('loss', 5.733232424463673), ('acc', 0.06267672007540057)]\n"
          ],
          "name": "stdout"
        }
      ]
    },
    {
      "metadata": {
        "id": "_8VUidu2TZfC",
        "colab_type": "text"
      },
      "cell_type": "markdown",
      "source": [
        "## SGD with 32 batch size"
      ]
    },
    {
      "metadata": {
        "id": "13ZaUPfNTS4c",
        "colab_type": "code",
        "colab": {
          "base_uri": "https://localhost:8080/",
          "height": 4097
        },
        "outputId": "3c425c41-9a19-487e-cde3-8688dcd166c9"
      },
      "cell_type": "code",
      "source": [
        "# set up of a new sequential model\n",
        "model = models.Sequential()\n",
        "model.add(layers.Dense(64, activation='relu', input_shape=(49152,))) #input shape is # of features\n",
        "model.add(layers.Dense(64, activation='relu'))\n",
        "model.add(layers.Dense(37, activation='softmax'))\n",
        "\n",
        "# run the new model with a smaller batch size \n",
        "model.compile(optimizer='SGD',\n",
        "              loss='categorical_crossentropy',\n",
        "              metrics=['accuracy'])\n",
        "history = model.fit(train_x,\n",
        "                    train_labels,\n",
        "                    epochs=120,batch_size = 32)"
      ],
      "execution_count": 32,
      "outputs": [
        {
          "output_type": "stream",
          "text": [
            "Epoch 1/120\n",
            "8457/8457 [==============================] - 11s 1ms/step - loss: 3.5785 - acc: 0.0464\n",
            "Epoch 2/120\n",
            "8457/8457 [==============================] - 11s 1ms/step - loss: 3.4580 - acc: 0.0753\n",
            "Epoch 3/120\n",
            "8457/8457 [==============================] - 11s 1ms/step - loss: 3.4071 - acc: 0.0853\n",
            "Epoch 4/120\n",
            "8457/8457 [==============================] - 11s 1ms/step - loss: 3.3718 - acc: 0.0882\n",
            "Epoch 5/120\n",
            "8457/8457 [==============================] - 11s 1ms/step - loss: 3.3391 - acc: 0.0990\n",
            "Epoch 6/120\n",
            "8457/8457 [==============================] - 11s 1ms/step - loss: 3.3186 - acc: 0.1037\n",
            "Epoch 7/120\n",
            "8457/8457 [==============================] - 11s 1ms/step - loss: 3.2920 - acc: 0.1093\n",
            "Epoch 8/120\n",
            "8457/8457 [==============================] - 11s 1ms/step - loss: 3.2676 - acc: 0.1120\n",
            "Epoch 9/120\n",
            "8457/8457 [==============================] - 11s 1ms/step - loss: 3.2488 - acc: 0.1172\n",
            "Epoch 10/120\n",
            "8457/8457 [==============================] - 11s 1ms/step - loss: 3.2236 - acc: 0.1212\n",
            "Epoch 11/120\n",
            "8457/8457 [==============================] - 11s 1ms/step - loss: 3.2029 - acc: 0.1239\n",
            "Epoch 12/120\n",
            "8457/8457 [==============================] - 11s 1ms/step - loss: 3.1834 - acc: 0.1263\n",
            "Epoch 13/120\n",
            "8457/8457 [==============================] - 11s 1ms/step - loss: 3.1703 - acc: 0.1292\n",
            "Epoch 14/120\n",
            "8457/8457 [==============================] - 11s 1ms/step - loss: 3.1593 - acc: 0.1373\n",
            "Epoch 15/120\n",
            "8457/8457 [==============================] - 11s 1ms/step - loss: 3.1486 - acc: 0.1342\n",
            "Epoch 16/120\n",
            "8457/8457 [==============================] - 11s 1ms/step - loss: 3.1211 - acc: 0.1373\n",
            "Epoch 17/120\n",
            "8457/8457 [==============================] - 11s 1ms/step - loss: 3.1124 - acc: 0.1470\n",
            "Epoch 18/120\n",
            "8457/8457 [==============================] - 11s 1ms/step - loss: 3.0892 - acc: 0.1504\n",
            "Epoch 19/120\n",
            "8457/8457 [==============================] - 11s 1ms/step - loss: 3.0720 - acc: 0.1510\n",
            "Epoch 20/120\n",
            "8457/8457 [==============================] - 11s 1ms/step - loss: 3.0475 - acc: 0.1635\n",
            "Epoch 21/120\n",
            "8457/8457 [==============================] - 11s 1ms/step - loss: 3.0442 - acc: 0.1595\n",
            "Epoch 22/120\n",
            "8457/8457 [==============================] - 11s 1ms/step - loss: 3.0267 - acc: 0.1632\n",
            "Epoch 23/120\n",
            "8457/8457 [==============================] - 11s 1ms/step - loss: 3.0050 - acc: 0.1694\n",
            "Epoch 24/120\n",
            "8457/8457 [==============================] - 11s 1ms/step - loss: 2.9894 - acc: 0.1743\n",
            "Epoch 25/120\n",
            "8457/8457 [==============================] - 11s 1ms/step - loss: 2.9756 - acc: 0.1742\n",
            "Epoch 26/120\n",
            "8457/8457 [==============================] - 12s 1ms/step - loss: 2.9645 - acc: 0.1782\n",
            "Epoch 27/120\n",
            "8457/8457 [==============================] - 12s 1ms/step - loss: 2.9429 - acc: 0.1897\n",
            "Epoch 28/120\n",
            "8457/8457 [==============================] - 12s 1ms/step - loss: 2.9276 - acc: 0.1899\n",
            "Epoch 29/120\n",
            "8457/8457 [==============================] - 12s 1ms/step - loss: 2.9012 - acc: 0.1959\n",
            "Epoch 30/120\n",
            "8457/8457 [==============================] - 11s 1ms/step - loss: 2.8858 - acc: 0.2005\n",
            "Epoch 31/120\n",
            "8457/8457 [==============================] - 11s 1ms/step - loss: 2.8739 - acc: 0.2022\n",
            "Epoch 32/120\n",
            "8457/8457 [==============================] - 11s 1ms/step - loss: 2.8524 - acc: 0.2056\n",
            "Epoch 33/120\n",
            "8457/8457 [==============================] - 11s 1ms/step - loss: 2.8431 - acc: 0.2091\n",
            "Epoch 34/120\n",
            "8457/8457 [==============================] - 11s 1ms/step - loss: 2.8248 - acc: 0.2117\n",
            "Epoch 35/120\n",
            "8457/8457 [==============================] - 11s 1ms/step - loss: 2.7963 - acc: 0.2176\n",
            "Epoch 36/120\n",
            "8457/8457 [==============================] - 11s 1ms/step - loss: 2.7827 - acc: 0.2236\n",
            "Epoch 37/120\n",
            "8457/8457 [==============================] - 11s 1ms/step - loss: 2.7709 - acc: 0.2267\n",
            "Epoch 38/120\n",
            "8457/8457 [==============================] - 11s 1ms/step - loss: 2.7518 - acc: 0.2371\n",
            "Epoch 39/120\n",
            "8457/8457 [==============================] - 11s 1ms/step - loss: 2.7306 - acc: 0.2397\n",
            "Epoch 40/120\n",
            "8457/8457 [==============================] - 11s 1ms/step - loss: 2.7095 - acc: 0.2437\n",
            "Epoch 41/120\n",
            "8457/8457 [==============================] - 11s 1ms/step - loss: 2.6937 - acc: 0.2543\n",
            "Epoch 42/120\n",
            "8457/8457 [==============================] - 11s 1ms/step - loss: 2.6790 - acc: 0.2552\n",
            "Epoch 43/120\n",
            "8457/8457 [==============================] - 11s 1ms/step - loss: 2.6630 - acc: 0.2556\n",
            "Epoch 44/120\n",
            "8457/8457 [==============================] - 11s 1ms/step - loss: 2.6289 - acc: 0.2601\n",
            "Epoch 45/120\n",
            "8457/8457 [==============================] - 11s 1ms/step - loss: 2.6145 - acc: 0.2678\n",
            "Epoch 46/120\n",
            "8457/8457 [==============================] - 11s 1ms/step - loss: 2.6070 - acc: 0.2710\n",
            "Epoch 47/120\n",
            "8457/8457 [==============================] - 11s 1ms/step - loss: 2.5832 - acc: 0.2767\n",
            "Epoch 48/120\n",
            "8457/8457 [==============================] - 11s 1ms/step - loss: 2.5673 - acc: 0.2760\n",
            "Epoch 49/120\n",
            "8457/8457 [==============================] - 11s 1ms/step - loss: 2.5704 - acc: 0.2840\n",
            "Epoch 50/120\n",
            "8457/8457 [==============================] - 11s 1ms/step - loss: 2.5296 - acc: 0.2897\n",
            "Epoch 51/120\n",
            "8457/8457 [==============================] - 11s 1ms/step - loss: 2.5211 - acc: 0.2950\n",
            "Epoch 52/120\n",
            "8457/8457 [==============================] - 11s 1ms/step - loss: 2.4894 - acc: 0.2988\n",
            "Epoch 53/120\n",
            "8457/8457 [==============================] - 11s 1ms/step - loss: 2.4617 - acc: 0.3094\n",
            "Epoch 54/120\n",
            "8457/8457 [==============================] - 11s 1ms/step - loss: 2.4691 - acc: 0.3047\n",
            "Epoch 55/120\n",
            "8457/8457 [==============================] - 11s 1ms/step - loss: 2.4226 - acc: 0.3187\n",
            "Epoch 56/120\n",
            "8457/8457 [==============================] - 11s 1ms/step - loss: 2.4062 - acc: 0.3259\n",
            "Epoch 57/120\n",
            "8457/8457 [==============================] - 11s 1ms/step - loss: 2.3934 - acc: 0.3282\n",
            "Epoch 58/120\n",
            "8457/8457 [==============================] - 11s 1ms/step - loss: 2.3981 - acc: 0.3225\n",
            "Epoch 59/120\n",
            "8457/8457 [==============================] - 11s 1ms/step - loss: 2.3784 - acc: 0.3297\n",
            "Epoch 60/120\n",
            "8457/8457 [==============================] - 11s 1ms/step - loss: 2.3329 - acc: 0.3435\n",
            "Epoch 61/120\n",
            "8457/8457 [==============================] - 11s 1ms/step - loss: 2.3417 - acc: 0.3390\n",
            "Epoch 62/120\n",
            "8457/8457 [==============================] - 11s 1ms/step - loss: 2.3310 - acc: 0.3442\n",
            "Epoch 63/120\n",
            "8457/8457 [==============================] - 11s 1ms/step - loss: 2.2932 - acc: 0.3519\n",
            "Epoch 64/120\n",
            "8457/8457 [==============================] - 11s 1ms/step - loss: 2.2610 - acc: 0.3604\n",
            "Epoch 65/120\n",
            "8457/8457 [==============================] - 11s 1ms/step - loss: 2.2689 - acc: 0.3615\n",
            "Epoch 66/120\n",
            "8457/8457 [==============================] - 11s 1ms/step - loss: 2.2428 - acc: 0.3593\n",
            "Epoch 67/120\n",
            "8457/8457 [==============================] - 11s 1ms/step - loss: 2.2421 - acc: 0.3614\n",
            "Epoch 68/120\n",
            "8457/8457 [==============================] - 11s 1ms/step - loss: 2.2206 - acc: 0.3630\n",
            "Epoch 69/120\n",
            "8457/8457 [==============================] - 11s 1ms/step - loss: 2.2039 - acc: 0.3737\n",
            "Epoch 70/120\n",
            "8457/8457 [==============================] - 12s 1ms/step - loss: 2.2246 - acc: 0.3725\n",
            "Epoch 71/120\n",
            "8457/8457 [==============================] - 11s 1ms/step - loss: 2.1491 - acc: 0.3913\n",
            "Epoch 72/120\n",
            "8457/8457 [==============================] - 11s 1ms/step - loss: 2.1349 - acc: 0.3939\n",
            "Epoch 73/120\n",
            "8457/8457 [==============================] - 11s 1ms/step - loss: 2.1667 - acc: 0.3819\n",
            "Epoch 74/120\n",
            "8457/8457 [==============================] - 11s 1ms/step - loss: 2.0808 - acc: 0.4102\n",
            "Epoch 75/120\n",
            "8457/8457 [==============================] - 11s 1ms/step - loss: 2.0944 - acc: 0.4026\n",
            "Epoch 76/120\n",
            "8457/8457 [==============================] - 11s 1ms/step - loss: 2.0681 - acc: 0.4048\n",
            "Epoch 77/120\n",
            "8457/8457 [==============================] - 11s 1ms/step - loss: 2.0849 - acc: 0.4013\n",
            "Epoch 78/120\n",
            "8457/8457 [==============================] - 11s 1ms/step - loss: 2.0500 - acc: 0.4115\n",
            "Epoch 79/120\n",
            "8457/8457 [==============================] - 11s 1ms/step - loss: 2.0283 - acc: 0.4220\n",
            "Epoch 80/120\n",
            "8457/8457 [==============================] - 11s 1ms/step - loss: 2.0430 - acc: 0.4126\n",
            "Epoch 81/120\n",
            "8457/8457 [==============================] - 11s 1ms/step - loss: 1.9904 - acc: 0.4254\n",
            "Epoch 82/120\n",
            "8457/8457 [==============================] - 11s 1ms/step - loss: 1.9692 - acc: 0.4303\n",
            "Epoch 83/120\n",
            "8457/8457 [==============================] - 11s 1ms/step - loss: 1.9484 - acc: 0.4434\n",
            "Epoch 84/120\n",
            "8457/8457 [==============================] - 11s 1ms/step - loss: 1.9512 - acc: 0.4408\n",
            "Epoch 85/120\n",
            "8457/8457 [==============================] - 11s 1ms/step - loss: 1.9507 - acc: 0.4434\n",
            "Epoch 86/120\n",
            "8457/8457 [==============================] - 11s 1ms/step - loss: 1.9332 - acc: 0.4448\n",
            "Epoch 87/120\n",
            "8457/8457 [==============================] - 11s 1ms/step - loss: 1.9831 - acc: 0.4369\n",
            "Epoch 88/120\n",
            "8457/8457 [==============================] - 11s 1ms/step - loss: 1.8687 - acc: 0.4526\n",
            "Epoch 89/120\n",
            "8457/8457 [==============================] - 11s 1ms/step - loss: 1.8841 - acc: 0.4595\n",
            "Epoch 90/120\n",
            "8457/8457 [==============================] - 11s 1ms/step - loss: 1.8622 - acc: 0.4665\n",
            "Epoch 91/120\n",
            "8457/8457 [==============================] - 11s 1ms/step - loss: 1.8739 - acc: 0.4629\n",
            "Epoch 92/120\n",
            "8457/8457 [==============================] - 10s 1ms/step - loss: 1.8291 - acc: 0.4717\n",
            "Epoch 93/120\n",
            "8457/8457 [==============================] - 10s 1ms/step - loss: 1.8731 - acc: 0.4560\n",
            "Epoch 94/120\n",
            "8457/8457 [==============================] - 11s 1ms/step - loss: 1.8007 - acc: 0.4859\n",
            "Epoch 95/120\n",
            "8457/8457 [==============================] - 11s 1ms/step - loss: 1.7843 - acc: 0.4855\n",
            "Epoch 96/120\n",
            "8457/8457 [==============================] - 11s 1ms/step - loss: 1.7678 - acc: 0.4897\n",
            "Epoch 97/120\n",
            "8457/8457 [==============================] - 11s 1ms/step - loss: 1.8194 - acc: 0.4688\n",
            "Epoch 98/120\n",
            "8457/8457 [==============================] - 11s 1ms/step - loss: 1.7917 - acc: 0.4817\n",
            "Epoch 99/120\n",
            "8457/8457 [==============================] - 11s 1ms/step - loss: 1.7164 - acc: 0.4983\n",
            "Epoch 100/120\n",
            "8457/8457 [==============================] - 11s 1ms/step - loss: 1.6835 - acc: 0.5114\n",
            "Epoch 101/120\n",
            "8457/8457 [==============================] - 11s 1ms/step - loss: 1.7293 - acc: 0.4979\n",
            "Epoch 102/120\n",
            "8457/8457 [==============================] - 10s 1ms/step - loss: 1.7012 - acc: 0.5085\n",
            "Epoch 103/120\n",
            "8457/8457 [==============================] - 10s 1ms/step - loss: 1.7075 - acc: 0.5015\n",
            "Epoch 104/120\n",
            "8457/8457 [==============================] - 10s 1ms/step - loss: 1.8093 - acc: 0.4785\n",
            "Epoch 105/120\n",
            "8457/8457 [==============================] - 11s 1ms/step - loss: 1.6844 - acc: 0.5099\n",
            "Epoch 106/120\n",
            "8457/8457 [==============================] - 11s 1ms/step - loss: 1.6150 - acc: 0.5348\n",
            "Epoch 107/120\n",
            "8457/8457 [==============================] - 10s 1ms/step - loss: 1.6678 - acc: 0.5185\n",
            "Epoch 108/120\n",
            "8457/8457 [==============================] - 10s 1ms/step - loss: 1.6334 - acc: 0.5248\n",
            "Epoch 109/120\n",
            "8457/8457 [==============================] - 10s 1ms/step - loss: 1.5812 - acc: 0.5378\n",
            "Epoch 110/120\n",
            "8457/8457 [==============================] - 10s 1ms/step - loss: 1.5726 - acc: 0.5445\n",
            "Epoch 111/120\n",
            "8457/8457 [==============================] - 10s 1ms/step - loss: 1.5881 - acc: 0.5387\n",
            "Epoch 112/120\n",
            "8457/8457 [==============================] - 10s 1ms/step - loss: 1.5744 - acc: 0.5419\n",
            "Epoch 113/120\n",
            "8457/8457 [==============================] - 10s 1ms/step - loss: 1.5454 - acc: 0.5487\n",
            "Epoch 114/120\n",
            "8457/8457 [==============================] - 10s 1ms/step - loss: 1.6558 - acc: 0.5154\n",
            "Epoch 115/120\n",
            "8457/8457 [==============================] - 10s 1ms/step - loss: 1.5090 - acc: 0.5639\n",
            "Epoch 116/120\n",
            "8457/8457 [==============================] - 10s 1ms/step - loss: 1.6550 - acc: 0.5187\n",
            "Epoch 117/120\n",
            "8457/8457 [==============================] - 10s 1ms/step - loss: 1.6299 - acc: 0.5268\n",
            "Epoch 118/120\n",
            "8457/8457 [==============================] - 10s 1ms/step - loss: 1.5164 - acc: 0.5563\n",
            "Epoch 119/120\n",
            "8457/8457 [==============================] - 11s 1ms/step - loss: 1.4696 - acc: 0.5779\n",
            "Epoch 120/120\n",
            "8457/8457 [==============================] - 10s 1ms/step - loss: 1.4859 - acc: 0.5672\n"
          ],
          "name": "stdout"
        }
      ]
    },
    {
      "metadata": {
        "id": "GBMKD0HvT5qQ",
        "colab_type": "text"
      },
      "cell_type": "markdown",
      "source": [
        "##vgg like covnet\n",
        "https://keras.io/getting-started/sequential-model-guide/"
      ]
    },
    {
      "metadata": {
        "id": "OcGzMQO6TTni",
        "colab_type": "code",
        "colab": {
          "base_uri": "https://localhost:8080/",
          "height": 374
        },
        "outputId": "30fc93f7-8b86-4975-d660-d935b4f9c022"
      },
      "cell_type": "code",
      "source": [
        "# This model takes FOREVER (about 3 and a half hours) to run if you are not on GPU\n",
        "# Do not run unless you are on GPU\n",
        "\n",
        "import numpy as np\n",
        "import keras\n",
        "from keras.models import Sequential\n",
        "from keras.layers import Dense, Dropout, Flatten\n",
        "from keras.layers import Conv2D, MaxPooling2D\n",
        "from keras.optimizers import SGD\n",
        "\n",
        "\n",
        "x_test = test_images/255.\n",
        "y_test = test_labels\n",
        "\n",
        "model = Sequential()\n",
        "# input: 64x64 images with 3 channels -> (64, 64, 3) tensors.\n",
        "# this applies 32 convolution filters of size 3x3 each.\n",
        "model.add(Conv2D(32, (3, 3), activation='relu', input_shape=(128, 128, 3)))\n",
        "model.add(Conv2D(32, (3, 3), activation='relu'))\n",
        "model.add(MaxPooling2D(pool_size=(2, 2)))\n",
        "model.add(Dropout(0.25))\n",
        "\n",
        "model.add(Conv2D(128, (3, 3), activation='relu'))\n",
        "model.add(Conv2D(128, (3, 3), activation='relu'))\n",
        "model.add(MaxPooling2D(pool_size=(2, 2)))\n",
        "model.add(Dropout(0.25))\n",
        "\n",
        "model.add(Flatten())\n",
        "model.add(Dense(256, activation='relu'))\n",
        "model.add(Dropout(0.5))\n",
        "model.add(Dense(37, activation='softmax'))\n",
        "\n",
        "sgd = SGD(lr=0.01, decay=1e-6, momentum=0.9, nesterov=True)\n",
        "model.compile(loss='categorical_crossentropy', optimizer=sgd, metrics=['accuracy'])\n",
        "\n",
        "model.fit(train_images, train_labels, batch_size=32, epochs=10)\n",
        "score = model.evaluate(test_images, test_labels, batch_size=32)"
      ],
      "execution_count": 7,
      "outputs": [
        {
          "output_type": "stream",
          "text": [
            "Epoch 1/10\n",
            "8457/8457 [==============================] - 18s 2ms/step - loss: 3.5750 - acc: 0.0402\n",
            "Epoch 2/10\n",
            "8457/8457 [==============================] - 17s 2ms/step - loss: 3.4581 - acc: 0.0761\n",
            "Epoch 3/10\n",
            "8457/8457 [==============================] - 17s 2ms/step - loss: 3.3741 - acc: 0.0888\n",
            "Epoch 4/10\n",
            "8457/8457 [==============================] - 17s 2ms/step - loss: 3.2868 - acc: 0.1087\n",
            "Epoch 5/10\n",
            "8457/8457 [==============================] - 17s 2ms/step - loss: 3.1589 - acc: 0.1347\n",
            "Epoch 6/10\n",
            "8457/8457 [==============================] - 17s 2ms/step - loss: 2.9995 - acc: 0.1685\n",
            "Epoch 7/10\n",
            "8457/8457 [==============================] - 17s 2ms/step - loss: 2.8379 - acc: 0.2057\n",
            "Epoch 8/10\n",
            "8457/8457 [==============================] - 17s 2ms/step - loss: 2.5678 - acc: 0.2733\n",
            "Epoch 9/10\n",
            "8457/8457 [==============================] - 17s 2ms/step - loss: 2.2289 - acc: 0.3656\n",
            "Epoch 10/10\n",
            "8457/8457 [==============================] - 17s 2ms/step - loss: 1.7689 - acc: 0.4794\n",
            "2122/2122 [==============================] - 1s 693us/step\n"
          ],
          "name": "stdout"
        }
      ]
    },
    {
      "metadata": {
        "id": "JT4B_EdVxDxM",
        "colab_type": "code",
        "colab": {
          "base_uri": "https://localhost:8080/",
          "height": 51
        },
        "outputId": "914a445a-6c17-4af3-e69e-bafc35da61fb"
      },
      "cell_type": "code",
      "source": [
        "# lets see how the model preforms on the test data\n",
        "# random guessing would be 2.7% so it does do better then that but 18% still isn't great\n",
        "score = model.evaluate(test_images, test_labels)\n",
        "print(score)"
      ],
      "execution_count": 8,
      "outputs": [
        {
          "output_type": "stream",
          "text": [
            "2122/2122 [==============================] - 1s 689us/step\n",
            "[3.141008284943605, 0.1828463714039629]\n"
          ],
          "name": "stdout"
        }
      ]
    },
    {
      "metadata": {
        "id": "Gn-72w-HwRuJ",
        "colab_type": "text"
      },
      "cell_type": "markdown",
      "source": [
        "## Model with Adam instead of SGD"
      ]
    },
    {
      "metadata": {
        "id": "mn4lsSQsY8qp",
        "colab_type": "code",
        "colab": {
          "base_uri": "https://localhost:8080/",
          "height": 4097
        },
        "outputId": "65befbff-1745-4e94-8cb1-dddf3edc755e"
      },
      "cell_type": "code",
      "source": [
        "# set up a Sequential Keras model\n",
        "model = models.Sequential()\n",
        "model.add(layers.Dense(64, activation='relu', input_shape=(49152,))) #input shape is # of features\n",
        "model.add(layers.Dense(64, activation='relu'))\n",
        "model.add(layers.Dense(37, activation='softmax'))\n",
        "\n",
        "# run the model with Adam\n",
        "\n",
        "model.compile(optimizer='Adam',\n",
        "              loss='categorical_crossentropy',\n",
        "              metrics=['accuracy'])\n",
        "\n",
        "history = model.fit(train_x,\n",
        "                    train_labels,\n",
        "                    epochs=120,batch_size = 64)"
      ],
      "execution_count": 38,
      "outputs": [
        {
          "output_type": "stream",
          "text": [
            "Epoch 1/120\n",
            "8457/8457 [==============================] - 12s 1ms/step - loss: 4.0107 - acc: 0.0357\n",
            "Epoch 2/120\n",
            "8457/8457 [==============================] - 10s 1ms/step - loss: 3.5905 - acc: 0.0374\n",
            "Epoch 3/120\n",
            "8457/8457 [==============================] - 10s 1ms/step - loss: 3.5782 - acc: 0.0359\n",
            "Epoch 4/120\n",
            "8457/8457 [==============================] - 10s 1ms/step - loss: 3.5698 - acc: 0.0367\n",
            "Epoch 5/120\n",
            "8457/8457 [==============================] - 10s 1ms/step - loss: 3.5654 - acc: 0.0381\n",
            "Epoch 6/120\n",
            "8457/8457 [==============================] - 10s 1ms/step - loss: 3.5635 - acc: 0.0393\n",
            "Epoch 7/120\n",
            "8457/8457 [==============================] - 10s 1ms/step - loss: 3.5628 - acc: 0.0401\n",
            "Epoch 8/120\n",
            "8457/8457 [==============================] - 10s 1ms/step - loss: 3.5625 - acc: 0.0393\n",
            "Epoch 9/120\n",
            "8457/8457 [==============================] - 10s 1ms/step - loss: 3.5624 - acc: 0.0383\n",
            "Epoch 10/120\n",
            "8457/8457 [==============================] - 10s 1ms/step - loss: 3.5623 - acc: 0.0383\n",
            "Epoch 11/120\n",
            "8457/8457 [==============================] - 10s 1ms/step - loss: 3.5624 - acc: 0.0382\n",
            "Epoch 12/120\n",
            "8457/8457 [==============================] - 10s 1ms/step - loss: 3.5623 - acc: 0.0394\n",
            "Epoch 13/120\n",
            "8457/8457 [==============================] - 10s 1ms/step - loss: 3.5623 - acc: 0.0396\n",
            "Epoch 14/120\n",
            "8457/8457 [==============================] - 10s 1ms/step - loss: 3.5623 - acc: 0.0380\n",
            "Epoch 15/120\n",
            "8457/8457 [==============================] - 10s 1ms/step - loss: 3.5622 - acc: 0.0387\n",
            "Epoch 16/120\n",
            "8457/8457 [==============================] - 10s 1ms/step - loss: 3.5622 - acc: 0.0394\n",
            "Epoch 17/120\n",
            "8457/8457 [==============================] - 10s 1ms/step - loss: 3.5622 - acc: 0.0351\n",
            "Epoch 18/120\n",
            "8457/8457 [==============================] - 9s 1ms/step - loss: 3.5623 - acc: 0.0396\n",
            "Epoch 19/120\n",
            "8457/8457 [==============================] - 10s 1ms/step - loss: 3.5623 - acc: 0.0388\n",
            "Epoch 20/120\n",
            "8457/8457 [==============================] - 10s 1ms/step - loss: 3.5623 - acc: 0.0395\n",
            "Epoch 21/120\n",
            "8457/8457 [==============================] - 10s 1ms/step - loss: 3.5623 - acc: 0.0363\n",
            "Epoch 22/120\n",
            "8457/8457 [==============================] - 10s 1ms/step - loss: 3.5623 - acc: 0.0376\n",
            "Epoch 23/120\n",
            "8457/8457 [==============================] - 10s 1ms/step - loss: 3.5622 - acc: 0.0377\n",
            "Epoch 24/120\n",
            "8457/8457 [==============================] - 10s 1ms/step - loss: 3.5622 - acc: 0.0393\n",
            "Epoch 25/120\n",
            "8457/8457 [==============================] - 10s 1ms/step - loss: 3.5623 - acc: 0.0378\n",
            "Epoch 26/120\n",
            "8457/8457 [==============================] - 10s 1ms/step - loss: 3.5623 - acc: 0.0368\n",
            "Epoch 27/120\n",
            "8457/8457 [==============================] - 10s 1ms/step - loss: 3.5622 - acc: 0.0380\n",
            "Epoch 28/120\n",
            "8457/8457 [==============================] - 9s 1ms/step - loss: 3.5623 - acc: 0.0351\n",
            "Epoch 29/120\n",
            "8457/8457 [==============================] - 9s 1ms/step - loss: 3.5624 - acc: 0.0374\n",
            "Epoch 30/120\n",
            "8457/8457 [==============================] - 10s 1ms/step - loss: 3.5623 - acc: 0.0354\n",
            "Epoch 31/120\n",
            "8457/8457 [==============================] - 10s 1ms/step - loss: 3.5623 - acc: 0.0376\n",
            "Epoch 32/120\n",
            "8457/8457 [==============================] - 10s 1ms/step - loss: 3.5622 - acc: 0.0376\n",
            "Epoch 33/120\n",
            "8457/8457 [==============================] - 9s 1ms/step - loss: 3.5622 - acc: 0.0369\n",
            "Epoch 34/120\n",
            "8457/8457 [==============================] - 9s 1ms/step - loss: 3.5622 - acc: 0.0388\n",
            "Epoch 35/120\n",
            "8457/8457 [==============================] - 9s 1ms/step - loss: 3.5623 - acc: 0.0396\n",
            "Epoch 36/120\n",
            "8457/8457 [==============================] - 9s 1ms/step - loss: 3.5622 - acc: 0.0378\n",
            "Epoch 37/120\n",
            "8457/8457 [==============================] - 9s 1ms/step - loss: 3.5622 - acc: 0.0374\n",
            "Epoch 38/120\n",
            "8457/8457 [==============================] - 9s 1ms/step - loss: 3.5622 - acc: 0.0380\n",
            "Epoch 39/120\n",
            "8457/8457 [==============================] - 10s 1ms/step - loss: 3.5623 - acc: 0.0396\n",
            "Epoch 40/120\n",
            "8457/8457 [==============================] - 9s 1ms/step - loss: 3.5623 - acc: 0.0375\n",
            "Epoch 41/120\n",
            "8457/8457 [==============================] - 10s 1ms/step - loss: 3.5623 - acc: 0.0376\n",
            "Epoch 42/120\n",
            "8457/8457 [==============================] - 10s 1ms/step - loss: 3.5622 - acc: 0.0369\n",
            "Epoch 43/120\n",
            "8457/8457 [==============================] - 10s 1ms/step - loss: 3.5623 - acc: 0.0384\n",
            "Epoch 44/120\n",
            "8457/8457 [==============================] - 10s 1ms/step - loss: 3.5623 - acc: 0.0369\n",
            "Epoch 45/120\n",
            "8457/8457 [==============================] - 10s 1ms/step - loss: 3.5622 - acc: 0.0380\n",
            "Epoch 46/120\n",
            "8457/8457 [==============================] - 10s 1ms/step - loss: 3.5622 - acc: 0.0382\n",
            "Epoch 47/120\n",
            "8457/8457 [==============================] - 10s 1ms/step - loss: 3.5623 - acc: 0.0393\n",
            "Epoch 48/120\n",
            "8457/8457 [==============================] - 10s 1ms/step - loss: 3.5623 - acc: 0.0396\n",
            "Epoch 49/120\n",
            "8457/8457 [==============================] - 9s 1ms/step - loss: 3.5622 - acc: 0.0369\n",
            "Epoch 50/120\n",
            "8457/8457 [==============================] - 9s 1ms/step - loss: 3.5622 - acc: 0.0393\n",
            "Epoch 51/120\n",
            "8457/8457 [==============================] - 9s 1ms/step - loss: 3.5622 - acc: 0.0375\n",
            "Epoch 52/120\n",
            "8457/8457 [==============================] - 9s 1ms/step - loss: 3.5622 - acc: 0.0376\n",
            "Epoch 53/120\n",
            "8457/8457 [==============================] - 9s 1ms/step - loss: 3.5622 - acc: 0.0376\n",
            "Epoch 54/120\n",
            "8457/8457 [==============================] - 9s 1ms/step - loss: 3.5623 - acc: 0.0372\n",
            "Epoch 55/120\n",
            "8457/8457 [==============================] - 10s 1ms/step - loss: 3.5622 - acc: 0.0376\n",
            "Epoch 56/120\n",
            "8457/8457 [==============================] - 10s 1ms/step - loss: 3.5623 - acc: 0.0381\n",
            "Epoch 57/120\n",
            "8457/8457 [==============================] - 9s 1ms/step - loss: 3.5622 - acc: 0.0358\n",
            "Epoch 58/120\n",
            "8457/8457 [==============================] - 9s 1ms/step - loss: 3.5622 - acc: 0.0372\n",
            "Epoch 59/120\n",
            "8457/8457 [==============================] - 9s 1ms/step - loss: 3.5623 - acc: 0.0389\n",
            "Epoch 60/120\n",
            "8457/8457 [==============================] - 9s 1ms/step - loss: 3.5623 - acc: 0.0375\n",
            "Epoch 61/120\n",
            "8457/8457 [==============================] - 10s 1ms/step - loss: 3.5622 - acc: 0.0378\n",
            "Epoch 62/120\n",
            "8457/8457 [==============================] - 9s 1ms/step - loss: 3.5623 - acc: 0.0363\n",
            "Epoch 63/120\n",
            "8457/8457 [==============================] - 9s 1ms/step - loss: 3.5623 - acc: 0.0356\n",
            "Epoch 64/120\n",
            "8457/8457 [==============================] - 10s 1ms/step - loss: 3.5623 - acc: 0.0396\n",
            "Epoch 65/120\n",
            "8457/8457 [==============================] - 10s 1ms/step - loss: 3.5622 - acc: 0.0396\n",
            "Epoch 66/120\n",
            "8457/8457 [==============================] - 10s 1ms/step - loss: 3.5622 - acc: 0.0396\n",
            "Epoch 67/120\n",
            "8457/8457 [==============================] - 10s 1ms/step - loss: 3.5622 - acc: 0.0396\n",
            "Epoch 68/120\n",
            "8457/8457 [==============================] - 9s 1ms/step - loss: 3.5622 - acc: 0.0384\n",
            "Epoch 69/120\n",
            "8457/8457 [==============================] - 9s 1ms/step - loss: 3.5622 - acc: 0.0361\n",
            "Epoch 70/120\n",
            "8457/8457 [==============================] - 9s 1ms/step - loss: 3.5622 - acc: 0.0384\n",
            "Epoch 71/120\n",
            "8457/8457 [==============================] - 10s 1ms/step - loss: 3.5623 - acc: 0.0396\n",
            "Epoch 72/120\n",
            "8457/8457 [==============================] - 10s 1ms/step - loss: 3.5622 - acc: 0.0395\n",
            "Epoch 73/120\n",
            "8457/8457 [==============================] - 10s 1ms/step - loss: 3.5621 - acc: 0.0358\n",
            "Epoch 74/120\n",
            "8457/8457 [==============================] - 10s 1ms/step - loss: 3.5622 - acc: 0.0374\n",
            "Epoch 75/120\n",
            "8457/8457 [==============================] - 9s 1ms/step - loss: 3.5622 - acc: 0.0370\n",
            "Epoch 76/120\n",
            "8457/8457 [==============================] - 9s 1ms/step - loss: 3.5622 - acc: 0.0382\n",
            "Epoch 77/120\n",
            "8457/8457 [==============================] - 10s 1ms/step - loss: 3.5622 - acc: 0.0396\n",
            "Epoch 78/120\n",
            "8457/8457 [==============================] - 10s 1ms/step - loss: 3.5622 - acc: 0.0365\n",
            "Epoch 79/120\n",
            "8457/8457 [==============================] - 10s 1ms/step - loss: 3.5622 - acc: 0.0396\n",
            "Epoch 80/120\n",
            "8457/8457 [==============================] - 10s 1ms/step - loss: 3.5623 - acc: 0.0378\n",
            "Epoch 81/120\n",
            "8457/8457 [==============================] - 10s 1ms/step - loss: 3.5622 - acc: 0.0356\n",
            "Epoch 82/120\n",
            "8457/8457 [==============================] - 10s 1ms/step - loss: 3.5622 - acc: 0.0377\n",
            "Epoch 83/120\n",
            "8457/8457 [==============================] - 10s 1ms/step - loss: 3.5622 - acc: 0.0381\n",
            "Epoch 84/120\n",
            "8457/8457 [==============================] - 10s 1ms/step - loss: 3.5622 - acc: 0.0396\n",
            "Epoch 85/120\n",
            "8457/8457 [==============================] - 10s 1ms/step - loss: 3.5622 - acc: 0.0375\n",
            "Epoch 86/120\n",
            "8457/8457 [==============================] - 10s 1ms/step - loss: 3.5622 - acc: 0.0391\n",
            "Epoch 87/120\n",
            "8457/8457 [==============================] - 10s 1ms/step - loss: 3.5623 - acc: 0.0372\n",
            "Epoch 88/120\n",
            "8457/8457 [==============================] - 10s 1ms/step - loss: 3.5622 - acc: 0.0377\n",
            "Epoch 89/120\n",
            "8457/8457 [==============================] - 10s 1ms/step - loss: 3.5622 - acc: 0.0374\n",
            "Epoch 90/120\n",
            "8457/8457 [==============================] - 10s 1ms/step - loss: 3.5622 - acc: 0.0382\n",
            "Epoch 91/120\n",
            "8457/8457 [==============================] - 10s 1ms/step - loss: 3.5622 - acc: 0.0389\n",
            "Epoch 92/120\n",
            "8457/8457 [==============================] - 10s 1ms/step - loss: 3.5621 - acc: 0.0361\n",
            "Epoch 93/120\n",
            "8457/8457 [==============================] - 10s 1ms/step - loss: 3.5622 - acc: 0.0390\n",
            "Epoch 94/120\n",
            "8457/8457 [==============================] - 10s 1ms/step - loss: 3.5622 - acc: 0.0396\n",
            "Epoch 95/120\n",
            "8457/8457 [==============================] - 10s 1ms/step - loss: 3.5622 - acc: 0.0382\n",
            "Epoch 96/120\n",
            "8457/8457 [==============================] - 10s 1ms/step - loss: 3.5622 - acc: 0.0377\n",
            "Epoch 97/120\n",
            "8457/8457 [==============================] - 10s 1ms/step - loss: 3.5622 - acc: 0.0381\n",
            "Epoch 98/120\n",
            "8457/8457 [==============================] - 10s 1ms/step - loss: 3.5622 - acc: 0.0367\n",
            "Epoch 99/120\n",
            "8457/8457 [==============================] - 10s 1ms/step - loss: 3.5622 - acc: 0.0375\n",
            "Epoch 100/120\n",
            "8457/8457 [==============================] - 10s 1ms/step - loss: 3.5622 - acc: 0.0368\n",
            "Epoch 101/120\n",
            "8457/8457 [==============================] - 10s 1ms/step - loss: 3.5622 - acc: 0.0380\n",
            "Epoch 102/120\n",
            "8457/8457 [==============================] - 10s 1ms/step - loss: 3.5622 - acc: 0.0390\n",
            "Epoch 103/120\n",
            "8457/8457 [==============================] - 10s 1ms/step - loss: 3.5622 - acc: 0.0380\n",
            "Epoch 104/120\n",
            "8457/8457 [==============================] - 10s 1ms/step - loss: 3.5622 - acc: 0.0381\n",
            "Epoch 105/120\n",
            "8457/8457 [==============================] - 10s 1ms/step - loss: 3.5621 - acc: 0.0376\n",
            "Epoch 106/120\n",
            "8457/8457 [==============================] - 10s 1ms/step - loss: 3.5621 - acc: 0.0375\n",
            "Epoch 107/120\n",
            "8457/8457 [==============================] - 10s 1ms/step - loss: 3.5622 - acc: 0.0368\n",
            "Epoch 108/120\n",
            "8457/8457 [==============================] - 10s 1ms/step - loss: 3.5622 - acc: 0.0389\n",
            "Epoch 109/120\n",
            "8457/8457 [==============================] - 10s 1ms/step - loss: 3.5622 - acc: 0.0385\n",
            "Epoch 110/120\n",
            "8457/8457 [==============================] - 10s 1ms/step - loss: 3.5621 - acc: 0.0396\n",
            "Epoch 111/120\n",
            "8457/8457 [==============================] - 10s 1ms/step - loss: 3.5622 - acc: 0.0396\n",
            "Epoch 112/120\n",
            "8457/8457 [==============================] - 10s 1ms/step - loss: 3.5622 - acc: 0.0396\n",
            "Epoch 113/120\n",
            "8457/8457 [==============================] - 10s 1ms/step - loss: 3.5622 - acc: 0.0367\n",
            "Epoch 114/120\n",
            "8457/8457 [==============================] - 10s 1ms/step - loss: 3.5622 - acc: 0.0388\n",
            "Epoch 115/120\n",
            "8457/8457 [==============================] - 10s 1ms/step - loss: 3.5622 - acc: 0.0385\n",
            "Epoch 116/120\n",
            "8457/8457 [==============================] - 10s 1ms/step - loss: 3.5622 - acc: 0.0375\n",
            "Epoch 117/120\n",
            "8457/8457 [==============================] - 10s 1ms/step - loss: 3.5622 - acc: 0.0388\n",
            "Epoch 118/120\n",
            "8457/8457 [==============================] - 10s 1ms/step - loss: 3.5622 - acc: 0.0377\n",
            "Epoch 119/120\n",
            "8457/8457 [==============================] - 10s 1ms/step - loss: 3.5622 - acc: 0.0388\n",
            "Epoch 120/120\n",
            "8457/8457 [==============================] - 10s 1ms/step - loss: 3.5622 - acc: 0.0389\n"
          ],
          "name": "stdout"
        }
      ]
    },
    {
      "metadata": {
        "id": "PDRJ9R-wICgv",
        "colab_type": "code",
        "colab": {
          "base_uri": "https://localhost:8080/",
          "height": 51
        },
        "outputId": "065183d3-99ac-4d55-e2d2-2b876d2e0d9f"
      },
      "cell_type": "code",
      "source": [
        "# lets see how the model does on the test day\n",
        "# 3.9% is pretty terrible and barely better then random guessing\n",
        "score = model.evaluate(test_x, test_labels)\n",
        "print(list(zip(model.metrics_names, score)))"
      ],
      "execution_count": 39,
      "outputs": [
        {
          "output_type": "stream",
          "text": [
            "2122/2122 [==============================] - 2s 934us/step\n",
            "[('loss', 3.5610298759863133), ('acc', 0.039585296896748896)]\n"
          ],
          "name": "stdout"
        }
      ]
    },
    {
      "metadata": {
        "id": "m4fR20iLqRUE",
        "colab_type": "text"
      },
      "cell_type": "markdown",
      "source": [
        "# Transfer learning"
      ]
    },
    {
      "metadata": {
        "id": "by-3NIkZA4Tf",
        "colab_type": "text"
      },
      "cell_type": "markdown",
      "source": [
        "most of this comes from https://towardsdatascience.com/keras-transfer-learning-for-beginners-6c9b8b7143e "
      ]
    },
    {
      "metadata": {
        "id": "hKipqBoZPrrf",
        "colab_type": "code",
        "colab": {}
      },
      "cell_type": "code",
      "source": [
        "# import needed libaraies\n",
        "# some of these are a repeat of ones above, but with how colabs times out I'm leaving them all here so you can run things peicemeal\n",
        "\n",
        "import pandas as pd\n",
        "import numpy as np\n",
        "import os\n",
        "import keras\n",
        "import matplotlib.pyplot as plt\n",
        "from keras.layers import Dense,GlobalAveragePooling2D\n",
        "from keras.applications import MobileNet\n",
        "from keras.preprocessing import image\n",
        "from keras.applications.mobilenet import preprocess_input\n",
        "from keras.preprocessing.image import ImageDataGenerator\n",
        "from keras.models import Model\n",
        "from keras.optimizers import Adam"
      ],
      "execution_count": 0,
      "outputs": []
    },
    {
      "metadata": {
        "id": "9kEKlJzzpvs1",
        "colab_type": "code",
        "colab": {
          "base_uri": "https://localhost:8080/",
          "height": 156
        },
        "outputId": "1435000a-fd90-4f63-df9a-ad291bf2ac5f"
      },
      "cell_type": "code",
      "source": [
        "#imports the mobilenet model and discards the last 1000 neuron layer.\n",
        "base_model=MobileNet(weights='imagenet',include_top=False) \n",
        "\n",
        "x=base_model.output\n",
        "x=GlobalAveragePooling2D()(x)\n",
        "#we add dense layers so that the model can learn more complex functions and classify for better results.\n",
        "x=Dense(1024,activation='relu')(x) \n",
        "x=Dense(1024,activation='relu')(x) #dense layer 2\n",
        "x=Dense(512,activation='relu')(x) #dense layer 3\n",
        "preds=Dense(37,activation='softmax')(x) #final layer with softmax activation"
      ],
      "execution_count": 13,
      "outputs": [
        {
          "output_type": "stream",
          "text": [
            "WARNING:tensorflow:From /usr/local/lib/python3.6/dist-packages/tensorflow/python/framework/op_def_library.py:263: colocate_with (from tensorflow.python.framework.ops) is deprecated and will be removed in a future version.\n",
            "Instructions for updating:\n",
            "Colocations handled automatically by placer.\n"
          ],
          "name": "stdout"
        },
        {
          "output_type": "stream",
          "text": [
            "/usr/local/lib/python3.6/dist-packages/keras_applications/mobilenet.py:208: UserWarning: MobileNet shape is undefined. Weights for input shape (224, 224) will be loaded.\n",
            "  warnings.warn('MobileNet shape is undefined.'\n"
          ],
          "name": "stderr"
        },
        {
          "output_type": "stream",
          "text": [
            "Downloading data from https://github.com/fchollet/deep-learning-models/releases/download/v0.6/mobilenet_1_0_224_tf_no_top.h5\n",
            "17227776/17225924 [==============================] - 1s 0us/step\n"
          ],
          "name": "stdout"
        }
      ]
    },
    {
      "metadata": {
        "id": "qQw94JYJrd09",
        "colab_type": "code",
        "colab": {}
      },
      "cell_type": "code",
      "source": [
        "model=Model(inputs=base_model.input,outputs=preds)\n",
        "#specify the inputs\n",
        "#specify the outputs\n",
        "#now a model has been created based on our architecture"
      ],
      "execution_count": 0,
      "outputs": []
    },
    {
      "metadata": {
        "id": "gveh361zp5VM",
        "colab_type": "code",
        "colab": {
          "base_uri": "https://localhost:8080/",
          "height": 1581
        },
        "outputId": "f8e787b5-fa58-445f-f479-bb000c2d8861"
      },
      "cell_type": "code",
      "source": [
        "# look at the different layers of the model\n",
        "for i,layer in enumerate(model.layers):\n",
        "  print(i,layer.name)"
      ],
      "execution_count": 15,
      "outputs": [
        {
          "output_type": "stream",
          "text": [
            "0 input_1\n",
            "1 conv1_pad\n",
            "2 conv1\n",
            "3 conv1_bn\n",
            "4 conv1_relu\n",
            "5 conv_dw_1\n",
            "6 conv_dw_1_bn\n",
            "7 conv_dw_1_relu\n",
            "8 conv_pw_1\n",
            "9 conv_pw_1_bn\n",
            "10 conv_pw_1_relu\n",
            "11 conv_pad_2\n",
            "12 conv_dw_2\n",
            "13 conv_dw_2_bn\n",
            "14 conv_dw_2_relu\n",
            "15 conv_pw_2\n",
            "16 conv_pw_2_bn\n",
            "17 conv_pw_2_relu\n",
            "18 conv_dw_3\n",
            "19 conv_dw_3_bn\n",
            "20 conv_dw_3_relu\n",
            "21 conv_pw_3\n",
            "22 conv_pw_3_bn\n",
            "23 conv_pw_3_relu\n",
            "24 conv_pad_4\n",
            "25 conv_dw_4\n",
            "26 conv_dw_4_bn\n",
            "27 conv_dw_4_relu\n",
            "28 conv_pw_4\n",
            "29 conv_pw_4_bn\n",
            "30 conv_pw_4_relu\n",
            "31 conv_dw_5\n",
            "32 conv_dw_5_bn\n",
            "33 conv_dw_5_relu\n",
            "34 conv_pw_5\n",
            "35 conv_pw_5_bn\n",
            "36 conv_pw_5_relu\n",
            "37 conv_pad_6\n",
            "38 conv_dw_6\n",
            "39 conv_dw_6_bn\n",
            "40 conv_dw_6_relu\n",
            "41 conv_pw_6\n",
            "42 conv_pw_6_bn\n",
            "43 conv_pw_6_relu\n",
            "44 conv_dw_7\n",
            "45 conv_dw_7_bn\n",
            "46 conv_dw_7_relu\n",
            "47 conv_pw_7\n",
            "48 conv_pw_7_bn\n",
            "49 conv_pw_7_relu\n",
            "50 conv_dw_8\n",
            "51 conv_dw_8_bn\n",
            "52 conv_dw_8_relu\n",
            "53 conv_pw_8\n",
            "54 conv_pw_8_bn\n",
            "55 conv_pw_8_relu\n",
            "56 conv_dw_9\n",
            "57 conv_dw_9_bn\n",
            "58 conv_dw_9_relu\n",
            "59 conv_pw_9\n",
            "60 conv_pw_9_bn\n",
            "61 conv_pw_9_relu\n",
            "62 conv_dw_10\n",
            "63 conv_dw_10_bn\n",
            "64 conv_dw_10_relu\n",
            "65 conv_pw_10\n",
            "66 conv_pw_10_bn\n",
            "67 conv_pw_10_relu\n",
            "68 conv_dw_11\n",
            "69 conv_dw_11_bn\n",
            "70 conv_dw_11_relu\n",
            "71 conv_pw_11\n",
            "72 conv_pw_11_bn\n",
            "73 conv_pw_11_relu\n",
            "74 conv_pad_12\n",
            "75 conv_dw_12\n",
            "76 conv_dw_12_bn\n",
            "77 conv_dw_12_relu\n",
            "78 conv_pw_12\n",
            "79 conv_pw_12_bn\n",
            "80 conv_pw_12_relu\n",
            "81 conv_dw_13\n",
            "82 conv_dw_13_bn\n",
            "83 conv_dw_13_relu\n",
            "84 conv_pw_13\n",
            "85 conv_pw_13_bn\n",
            "86 conv_pw_13_relu\n",
            "87 global_average_pooling2d_1\n",
            "88 dense_1\n",
            "89 dense_2\n",
            "90 dense_3\n",
            "91 dense_4\n"
          ],
          "name": "stdout"
        }
      ]
    },
    {
      "metadata": {
        "id": "ttc3vMrPqCiJ",
        "colab_type": "code",
        "colab": {}
      },
      "cell_type": "code",
      "source": [
        "for layer in model.layers:\n",
        "    layer.trainable=False\n",
        "# or if we want to set the first 20 layers of the network to be non-trainable\n",
        "for layer in model.layers[:20]:\n",
        "    layer.trainable=False\n",
        "for layer in model.layers[20:]:\n",
        "    layer.trainable=True"
      ],
      "execution_count": 0,
      "outputs": []
    },
    {
      "metadata": {
        "id": "WfMu0DCBrooC",
        "colab_type": "code",
        "colab": {
          "base_uri": "https://localhost:8080/",
          "height": 34
        },
        "outputId": "b21f786c-babe-4014-f7d0-b376e9ceb829"
      },
      "cell_type": "code",
      "source": [
        "# set up training data\n",
        "\n",
        "train_datagen=ImageDataGenerator(preprocessing_function=preprocess_input) #included in our dependencies\n",
        "\n",
        "train_generator=train_datagen.flow_from_directory('/content/content/train',\n",
        "                                                 target_size=(224,224),\n",
        "                                                 color_mode='rgb',\n",
        "                                                 batch_size=32,\n",
        "                                                 class_mode='categorical',\n",
        "                                                 shuffle=True)\n"
      ],
      "execution_count": 17,
      "outputs": [
        {
          "output_type": "stream",
          "text": [
            "Found 8457 images belonging to 37 classes.\n"
          ],
          "name": "stdout"
        }
      ]
    },
    {
      "metadata": {
        "id": "82h2pRNnr6MM",
        "colab_type": "code",
        "colab": {
          "base_uri": "https://localhost:8080/",
          "height": 445
        },
        "outputId": "9742fe9e-b999-4ffb-acb1-03f7a6446088"
      },
      "cell_type": "code",
      "source": [
        "model.compile(optimizer='Adam',loss='categorical_crossentropy',metrics=['accuracy'])\n",
        "# Adam optimizer\n",
        "# loss function will be categorical cross entropy\n",
        "# evaluation metric will be accuracy\n",
        "\n",
        "# run model\n",
        "step_size_train=train_generator.n//train_generator.batch_size\n",
        "model.fit_generator(generator=train_generator,\n",
        "                   steps_per_epoch=step_size_train,\n",
        "                   epochs=10)"
      ],
      "execution_count": 18,
      "outputs": [
        {
          "output_type": "stream",
          "text": [
            "WARNING:tensorflow:From /usr/local/lib/python3.6/dist-packages/tensorflow/python/ops/math_ops.py:3066: to_int32 (from tensorflow.python.ops.math_ops) is deprecated and will be removed in a future version.\n",
            "Instructions for updating:\n",
            "Use tf.cast instead.\n",
            "Epoch 1/10\n",
            "264/264 [==============================] - 56s 211ms/step - loss: 1.4257 - acc: 0.5717\n",
            "Epoch 2/10\n",
            "264/264 [==============================] - 50s 191ms/step - loss: 0.8799 - acc: 0.7280\n",
            "Epoch 3/10\n",
            "264/264 [==============================] - 50s 189ms/step - loss: 0.6609 - acc: 0.7968\n",
            "Epoch 4/10\n",
            "264/264 [==============================] - 49s 187ms/step - loss: 0.5305 - acc: 0.8371\n",
            "Epoch 5/10\n",
            "264/264 [==============================] - 49s 186ms/step - loss: 0.4575 - acc: 0.8648\n",
            "Epoch 6/10\n",
            "264/264 [==============================] - 49s 186ms/step - loss: 0.4169 - acc: 0.8720\n",
            "Epoch 7/10\n",
            "264/264 [==============================] - 50s 189ms/step - loss: 0.3615 - acc: 0.8916\n",
            "Epoch 8/10\n",
            "264/264 [==============================] - 49s 187ms/step - loss: 0.3506 - acc: 0.8957\n",
            "Epoch 9/10\n",
            "264/264 [==============================] - 50s 190ms/step - loss: 0.3124 - acc: 0.9072\n",
            "Epoch 10/10\n",
            "264/264 [==============================] - 49s 187ms/step - loss: 0.2695 - acc: 0.9206\n"
          ],
          "name": "stdout"
        },
        {
          "output_type": "execute_result",
          "data": {
            "text/plain": [
              "<keras.callbacks.History at 0x7ff510e685c0>"
            ]
          },
          "metadata": {
            "tags": []
          },
          "execution_count": 18
        }
      ]
    },
    {
      "metadata": {
        "id": "F2-PPR5AtVcU",
        "colab_type": "code",
        "colab": {
          "base_uri": "https://localhost:8080/",
          "height": 51
        },
        "outputId": "78e8da72-15f1-42e5-d009-df3c713f8ebe"
      },
      "cell_type": "code",
      "source": [
        "# see how well the model does on test images\n",
        "# 46% is way better then the CNNs from scratch \n",
        "score = model.evaluate(test_images, test_labels)\n",
        "print(score)"
      ],
      "execution_count": 23,
      "outputs": [
        {
          "output_type": "stream",
          "text": [
            "2122/2122 [==============================] - 2s 883us/step\n",
            "[3.106825522270886, 0.4641847313854854]\n"
          ],
          "name": "stdout"
        }
      ]
    },
    {
      "metadata": {
        "id": "Mt6IJrRbYv11",
        "colab_type": "code",
        "colab": {}
      },
      "cell_type": "code",
      "source": [
        "import itertools\n",
        "\n",
        "def plot_confusion_matrix(cm, classes,\n",
        "                          normalize=False,\n",
        "                          title='Confusion matrix',\n",
        "                          cmap=plt.cm.Blues):\n",
        "    \"\"\"\n",
        "    This function prints and plots the confusion matrix.\n",
        "    Normalization can be applied by setting `normalize=True`.\n",
        "    \"\"\"\n",
        "    if normalize:\n",
        "        cm = cm.astype('float') / cm.sum(axis=1)[:, np.newaxis]\n",
        "        print(\"Normalized confusion matrix\")\n",
        "    else:\n",
        "        print('Confusion matrix, without normalization')\n",
        "\n",
        "    print(cm)\n",
        "    \n",
        "    plt.imshow(cm, interpolation='nearest', cmap=cmap)\n",
        "    plt.title(title)\n",
        "    plt.colorbar()\n",
        "    tick_marks = np.arange(len(classes))\n",
        "    plt.xticks(tick_marks, classes, rotation=45)\n",
        "    plt.yticks(tick_marks, classes)\n",
        "\n",
        "    fmt = '.2f' if normalize else 'd'\n",
        "    thresh = cm.max() / 2.\n",
        "\n",
        "    plt.ylabel('True label')\n",
        "    plt.xlabel('Predicted label')\n",
        "    plt.tight_layout()"
      ],
      "execution_count": 0,
      "outputs": []
    },
    {
      "metadata": {
        "id": "u5iumznuZtLf",
        "colab_type": "code",
        "colab": {}
      },
      "cell_type": "code",
      "source": [
        "# see how well the model does on the test images\n",
        "predictions_transfer = model.predict(test_images)"
      ],
      "execution_count": 0,
      "outputs": []
    },
    {
      "metadata": {
        "id": "r9lcLHxwZTtS",
        "colab_type": "code",
        "colab": {}
      },
      "cell_type": "code",
      "source": [
        "# compare how well the model's predicted lables are to the actual lables\n",
        "transfer_preds = [np.argmax(prediction) for prediction in predictions_transfer]\n",
        "true_labels = [np.argmax(true_test_label) for true_test_label in test_labels]"
      ],
      "execution_count": 0,
      "outputs": []
    },
    {
      "metadata": {
        "id": "XifUq5dbZ7tb",
        "colab_type": "code",
        "colab": {
          "base_uri": "https://localhost:8080/",
          "height": 433
        },
        "outputId": "eae5b476-2549-4577-fad0-9f5e6de56115"
      },
      "cell_type": "code",
      "source": [
        "# plot confusion matrix\n",
        "plot_confusion_matrix(confusion_matrix(true_labels, transfer_preds), range(0,37))"
      ],
      "execution_count": 32,
      "outputs": [
        {
          "output_type": "stream",
          "text": [
            "Confusion matrix, without normalization\n",
            "[[14  0  0 ...  0  1  0]\n",
            " [ 3  3  0 ...  1  2  0]\n",
            " [ 0  0  5 ...  1  0  0]\n",
            " ...\n",
            " [ 0  0  0 ... 13  6  0]\n",
            " [ 0  0  0 ...  0 48  0]\n",
            " [ 0  0  0 ...  0 23 17]]\n"
          ],
          "name": "stdout"
        },
        {
          "output_type": "display_data",
          "data": {
            "image/png": "[encoded data removed]",
            "text/plain": [
              "<Figure size 432x288 with 2 Axes>"
            ]
          },
          "metadata": {
            "tags": []
          }
        }
      ]
    },
    {
      "metadata": {
        "id": "cMOzx6SWaE1T",
        "colab_type": "code",
        "colab": {}
      },
      "cell_type": "code",
      "source": [
        ""
      ],
      "execution_count": 0,
      "outputs": []
    }
  ]
}